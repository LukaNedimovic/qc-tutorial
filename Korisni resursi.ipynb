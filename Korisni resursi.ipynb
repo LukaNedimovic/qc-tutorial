{
 "cells": [
  {
   "cell_type": "markdown",
   "metadata": {},
   "source": [
    "<center> <h1> Korisni resursi </h1> </center>\n",
    "<hr>"
   ]
  },
  {
   "cell_type": "markdown",
   "metadata": {},
   "source": [
    "U ovom kratkom Jupyter Notebook-u nalaze se informacije o najboljim sajtovima za izučavanje kvantnog računarstva."
   ]
  },
  {
   "cell_type": "markdown",
   "metadata": {},
   "source": [
    "Lično, kao autor, savjetujem čitaocu da se priključi Discord serveru `Quantum Computing`, na kojem sam ja lično započeo. To je, vjerovatno, najveći Discord server za kvantno računarstvo i tamo će vas dočekati izuzetno motivisani i ambiciozni ljudi, voljni da vam uvijek pomognu pri učenju. Da nije bilo njihove motivacije i raznih ponuda prema meni, vjerovatno ovaj tutorijal uopšte ne bi ni postojao. <a href=\"https://discord.gg/jnD3kCXW2Z\">Kliknite ovdje da se priključite `Quantum Computing` Discord serveru.</a>\n",
    "\n",
    "Vlasnici ovoga servera su takođe povezani sa sajtom <a href=\"https://www.haq.ai/\">haq.ai</a>, koji predstavlja prvi takmičarski sajt za kvantno računarstvo. Kao neko ko je učestvovao i učestvuje u razvoju sajta, izuzetno vjerujem da će ovaj sajt i ideja zaživjeti i biće jako vrijedno mjesto za okupljanje entuzijasta. `Haq.ai` takođe ima svoj Discord server, kojem se možete pridružiti ovim <a href=\"https://discord.gg/4uSH8eKWRK\"> linkom</a>."
   ]
  },
  {
   "cell_type": "markdown",
   "metadata": {},
   "source": [
    "<b>The Eigensolvers</b> su grupa motivisanih entuzijasta koji su povezani sa `Quantum Computing` Discord serverom i koji su organizovali ljetnu školu i hakaton iz kvantnog programiranja, u kojima sam lično učestvovao. Više informacija na sljedećem linku: <a href=\"https://github.com/The-Eigensolvers/TEQS\"> https://github.com/The-Eigensolvers/TEQS </a>.\n",
    "\n",
    "<b>Ono što je sigurno jeste da će ovakvih događaja biti još, tako da vas savjetujem da se priključite community-u i pokušate da osvojite neke od vrijednih nagrada - ili samo da se zabavite. :)</b>"
   ]
  },
  {
   "cell_type": "markdown",
   "metadata": {},
   "source": [
    "Vrijedni resursi za izučavanje kvantnog računarstva i Qiskita su, svakako, <b>oficijalni resursi</b>: <a href=\"https://qiskit.org/textbook/preface.html\"/>https://qiskit.org/textbook/preface.html</a>\n",
    "\n",
    "Takođe, ponekad je korisno pogledati u <b>Qiskit-ovu dokumentaciju</b> na sljedećem linku: <a href=\"https://qiskit.org/documentation/\"> link</a>. "
   ]
  },
  {
   "cell_type": "markdown",
   "metadata": {},
   "source": [
    "<b>QBraid</b> je organizacija koja je isto od velike koristi početnicima u kvantom računarstvu. Preko ljeta 2021. godine organizovali su `quBes` kurs, koji je bio izuzetno zanimljiv, te je podučavao osnovne kvantnog računarstva.\n",
    "    \n",
    "Najbolji dio toga svega jeste to što su materijali sa toga kursa javno dostupni i to na ovom <a href=\"https://qbook.qbraid.com/learn/Qubes_course/Introduction/Introduction/(class=60ee09665b306b4e9cc819c9)/(tutorial=603409172ef6aa48ac0d7ccf)/(file=606a4c0bea9fe7836c737258)\"> linku</a> (klikni).\n",
    "\n",
    "<b>QBraid ima u planu još početničkih i naprednih kurseva, ambasador programa, te predavanja, tako da vam savjetujem da pratite njihov rad. :)</b>"
   ]
  },
  {
   "cell_type": "markdown",
   "metadata": {},
   "source": [
    "<hr>\n",
    "<center><h2>Ovo je sasvim dovoljno resursa za početnike u kvantnom računarstvu. Nadam se da su vam neki bili od koristi! :)</h2></center>\n",
    "<hr>"
   ]
  }
 ],
 "metadata": {
  "kernelspec": {
   "display_name": "Python 3",
   "language": "python",
   "name": "python3"
  },
  "language_info": {
   "codemirror_mode": {
    "name": "ipython",
    "version": 3
   },
   "file_extension": ".py",
   "mimetype": "text/x-python",
   "name": "python",
   "nbconvert_exporter": "python",
   "pygments_lexer": "ipython3",
   "version": "3.8.5"
  }
 },
 "nbformat": 4,
 "nbformat_minor": 4
}
