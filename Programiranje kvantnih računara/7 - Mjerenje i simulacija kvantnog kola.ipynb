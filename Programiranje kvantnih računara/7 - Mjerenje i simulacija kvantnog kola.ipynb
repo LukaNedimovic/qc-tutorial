{
 "cells": [
  {
   "cell_type": "code",
   "execution_count": null,
   "metadata": {},
   "outputs": [],
   "source": [
    "from qiskit import * # Obavezno pokrenuti ovaj blok koda!"
   ]
  },
  {
   "cell_type": "markdown",
   "metadata": {},
   "source": [
    "# <center> 7.1 - Mjerenje qubita </center>\n",
    "<hr>"
   ]
  },
  {
   "cell_type": "markdown",
   "metadata": {},
   "source": [
    "Za sada smo samo napravili nekoliko kvantnih kola koja, sama po sebi, nam ne govore mnogo. Iz njih nismo dobili nikakvu informaciju, čak ih nismo ni pokrenuli.\n",
    "\n",
    "No, prije pokretanja samog kola trebalo bismo se podsjetiti kako zapravo funkcioniše mjerenje - <b>pri mjerenju qubita, on će preći ili u stanje $|0\\rangle$, ili u stanje $|1\\rangle$, u zavisnosti od stanja prije mjerenja.</b>\n",
    "Tako, na primjer, stanje $|+\\rangle = \\frac{1}{\\sqrt{2}}|0\\rangle + \\frac{1}{\\sqrt{2}}|1\\rangle$ će, u idealnom slučaju, 50% mjerenja dati ishod $|0\\rangle$, a drugih 50% dati ishod $|1\\rangle$. \n",
    "\n",
    "Ukoliko qubit, nakon mjerenja, završi u stanju $|0\\rangle$, to je ekvivalentno bitu <b>0</b>, a ako završi u stanju $|1\\rangle$, to je ekvivalentno bitu <b>1</b>."
   ]
  },
  {
   "cell_type": "markdown",
   "metadata": {},
   "source": [
    "## <center> 7.2 - Čuvanje klasične informacije </center>\n",
    "<hr>"
   ]
  },
  {
   "cell_type": "markdown",
   "metadata": {},
   "source": [
    "Kako im ime sugeriše, kvantni bitovi (qubiti) čuvaju kvantnu informaciju, te kao takvi nam ne mogu pomoći pri nekim klasičnim računanjima i čuvanju klasične informacije.\n",
    "\n",
    "<b> Kvantna kola, pored kvantnih bitova, mogu sadržati i obične bitove.</b> <br>\n",
    "Obični bitovi će zapravo čuvati rezultate mjerenja određenih qubita, pa tako, na primjer, ako mjerimo qubit i on završi u stanju $|0\\rangle$, klasični bit će imati vrijednost <b>0</b> (slično i za stanje $|1\\rangle$)."
   ]
  },
  {
   "cell_type": "markdown",
   "metadata": {},
   "source": [
    "### Primjer 1 \n",
    "\n",
    "Kreirati kvantno kolo sa 3 kvantna bita i 2 klasična bita. Kvantno kolo grafički prikažite."
   ]
  },
  {
   "cell_type": "markdown",
   "metadata": {},
   "source": [
    "### Rješenje\n",
    "Pri kreiranju kvantnog kola dovoljno je samo da dodamo još jedan broj, koji predstavlja broj klasičnih bitova. <br>\n",
    "Pogledajte kod ispod."
   ]
  },
  {
   "cell_type": "code",
   "execution_count": null,
   "metadata": {},
   "outputs": [],
   "source": [
    "qc = QuantumCircuit(3,2) # Prvi broj predstavlja broj qubita, a drugi broj klasičnih bitova\n",
    "qc.draw(\"mpl\")"
   ]
  },
  {
   "cell_type": "markdown",
   "metadata": {},
   "source": [
    "Zapis za klasične bitove je nešto manji, kako slike ne bi bile prevelike. Kosa crta, iznad koje piše broj 2, nam kazuje da ovo kvantno kolo ima 2 klasična bita. <br>\n",
    "\n",
    "<center> <h4> U kvantnim kolima broj klasičnih bitova ne mora biti jednak broju kvantnih bitova, jer ne moramo uvijek koristiti sve kvantne bitove za dobijanje neke klasične informacije. </h4> </center>"
   ]
  },
  {
   "cell_type": "markdown",
   "metadata": {},
   "source": [
    "### Primjer 2\n",
    "\n",
    "Kreirati kvantno kolo sa 2 kvantna i 2 klasična bita, te izmjeriti oba qubita."
   ]
  },
  {
   "cell_type": "markdown",
   "metadata": {},
   "source": [
    "### Rješenje\n",
    "\n",
    "Kada mjerimo kvantne bitove, bitno je da obratimo pažnju da ne mjerimo sve kvantne bitove u isti klasični bit. U ovom slučaju, prvi kvantni bit možemo mjeriti u prvi klasični bit, a drugi kvantni bit u drugi klasični bit.\n",
    "\n",
    "<center> <h4> Nije nemoguće niti zabranjeno mjeriti više kvantnih bitova u klasični bit. Ukoliko je moguće, možda je i poželjno kako bi se veličina kola smanjila. </h4> </center>"
   ]
  },
  {
   "cell_type": "code",
   "execution_count": null,
   "metadata": {},
   "outputs": [],
   "source": [
    "qc = QuantumCircuit(2,2)\n",
    "qc.measure(0,0) # Izmjeri qubit 0 u klasični bit 0\n",
    "qc.measure(1,1) # Izmjeri qubit 1 u klasični bit 1\n",
    "\n",
    "# Da smo, na primjer, napisali: qc.measure(0,1); izmjerili bismo qubit 0 u klasični bit 1"
   ]
  },
  {
   "cell_type": "code",
   "execution_count": null,
   "metadata": {},
   "outputs": [],
   "source": [
    "qc.draw(\"mpl\") # Prikažimo kolo"
   ]
  },
  {
   "cell_type": "markdown",
   "metadata": {},
   "source": [
    "## <center> 7.3 - Pokretanje kvantnog kola </center>\n",
    "<hr>"
   ]
  },
  {
   "cell_type": "markdown",
   "metadata": {},
   "source": [
    "Sada, kada imamo kvantno kolo koje će ekstraktovati neke nama korisne informacije u vidu bitova, konačno možemo <b>simulirati</b> kvantno kolo i vidjeti koje ćemo rezultate dobiti. <br>\n",
    "\n",
    "Qiskit nam omogućava da simuliramo kvantna kola na našim računarima. Simulacije <b>nisu</b> pravi kvantni računari, već samo velika količina koda koja je napisana da što bolje imitira kvantni računar.\n",
    "\n",
    "Mi ćemo se koristiti takozvanim `QASM` simulatorom. <b>QASM simulator ima za cilj da što bolje mimikuje kvantni računar, te ima malu dozu slučajnosti u sebi, tako da rezultati neće uvijek biti savršeni.</b>\n",
    "\n",
    "Pogledajmo primjer."
   ]
  },
  {
   "cell_type": "markdown",
   "metadata": {},
   "source": [
    "### Primjer 3 \n",
    "\n",
    "Kreirati kvantno kolo sa 1 qubitom i 1 klasičnim bitom. Postaviti qubit u $|+\\rangle$ stanje, izmjeriti ga, pokrenuti kvantno kolo te grafički prikazati rezultate mjerenja."
   ]
  },
  {
   "cell_type": "markdown",
   "metadata": {},
   "source": [
    "### Rješenje\n",
    "\n"
   ]
  },
  {
   "cell_type": "code",
   "execution_count": null,
   "metadata": {},
   "outputs": [],
   "source": [
    "qc = QuantumCircuit(1,1) \n",
    "qc.h(0)\n",
    "qc.measure(0,0)"
   ]
  },
  {
   "cell_type": "code",
   "execution_count": null,
   "metadata": {},
   "outputs": [],
   "source": [
    "from qiskit.tools.visualization import plot_histogram # Potrebno je dodati ovu liniju koda kako bismo mogli prikazati histogram\n",
    "\n",
    "backend = Aer.get_backend('qasm_simulator')        # Kreiramo simulator  \n",
    "result = execute(qc, backend, shots=1024).result() # Rezultate mjerenja čuvamo u varijabli \"result\"\n",
    "counts = result.get_counts()                       # get_counts() vraća rječnik, gdje je jedan par u formatu {ishod, broj_Ishoda}\n",
    "plot_histogram(counts)                             # Crtamo histogram sa rezultatima mjerenja"
   ]
  },
  {
   "cell_type": "markdown",
   "metadata": {},
   "source": [
    "Kada pokrenemo kod vidjećemo da je broj ishoda otprilike 50 - 50. Pokretanjem koda više puta možda se frekvencija ishoda malo promijeni, ali neće biti neke veće devijacije od šanse.\n",
    "\n",
    "Ovo kolo pokrenuto je 1024 puta, što je predstavljeno vrijednošću `shots`. Ukoliko nam je potreban samo 1 pokretanje, postavićemo `shots=1`."
   ]
  },
  {
   "cell_type": "markdown",
   "metadata": {},
   "source": [
    "## Zadatak 1 - Generator nasumičnih brojeva\n",
    "\n",
    "U binarnom brojnom sistemu, broj 25 se zapisuje kao `11001`. Vidimo da za njegov zapis nam je potrebno 5 klasičnih bitova. Štaviše, sa 5 klasičnih bitova možemo zapisati brojeve od 0 do 31 (uključivo). <br>\n",
    "\n",
    "Poznato nam je da Hadamardova kapija postavlja stanje $|0\\rangle$ u jednaku superpoziciju stanja $|0\\rangle$ i $|1\\rangle$ (oba imaju istu vjerovatnoću da budu izmjereni). Kada bismo posmatrali samo taj jedan kvatni bit, on nam, u neku ruku, dođe kao nasumični generator broja - ima istu vjerovatnoću da nam da 0 i 1.\n",
    "\n",
    "Ukoliko bismo postavili 5 kvantnih bitova, svaki u stanje $|+\\rangle$, dobili bismo nasumični generator brojeva koji daje brojeve od 0 do 31 sa jednakom vjerovatnoćom.\n",
    "\n",
    "<b>Implementirajte ovaj generator nasumičnih brojeva. Pokrenite vaše kvantno kolo samo jednom, te ispišite nasumično generisani broj.</b>"
   ]
  },
  {
   "cell_type": "code",
   "execution_count": null,
   "metadata": {},
   "outputs": [],
   "source": [
    "# Vaš kod ide ovdje! :)"
   ]
  },
  {
   "cell_type": "markdown",
   "metadata": {},
   "source": [
    "## <center> 7.4 - Dobijanje kvantnog stanja </center>\n",
    "<hr>"
   ]
  },
  {
   "cell_type": "markdown",
   "metadata": {},
   "source": [
    "Pored klasične informacije možemo dobiti i još neke podatke, kao na primjer kvantno stanje čitavog sistema nakon simulacije kvantnog kola. Pri tome, nije potrenbo da mjerimo kvantne bitove, zato što je i poenta da oni ostanu u superpoziciji.\n",
    "\n",
    "Pogledajte primjer ispod.\n"
   ]
  },
  {
   "cell_type": "markdown",
   "metadata": {},
   "source": [
    "### Primjer 4\n",
    "Rekreirati kolo iz primjera 3, s tim što je potrebno umjesto klasične informacije pronaći kvantno stanje na kraju kola."
   ]
  },
  {
   "cell_type": "markdown",
   "metadata": {},
   "source": [
    "### Rješenje\n",
    "\n",
    "Da bismo simulirali kvantno kolo za potrebe dobijanja kvatnog stanja nakon izvršenja kola, nećemo se koristiti `QASM`, već `Statevector` simulatorom."
   ]
  },
  {
   "cell_type": "code",
   "execution_count": null,
   "metadata": {},
   "outputs": [],
   "source": [
    "# Kako trebamo pronaći kvantno stanje na kraju kola, nećemo mjeriti stanje ni jednom qubita \n",
    "qc = QuantumCircuit(1)\n",
    "qc.h(0)\n",
    "\n",
    "simulator = Aer.get_backend('statevector_simulator')\n",
    "result = execute(qc, backend=simulator).result()\n",
    "kvantno_stanje = result.get_statevector()\n",
    "print(kvantno_stanje)"
   ]
  },
  {
   "cell_type": "markdown",
   "metadata": {},
   "source": [
    "Vidimo da je šansa za za ishod $|0\\rangle$ jednaka $\\frac{\\sqrt{2}}{2}$, kao i za ishod $|1\\rangle$"
   ]
  }
 ],
 "metadata": {
  "kernelspec": {
   "display_name": "Python 3 (ipykernel)",
   "language": "python",
   "name": "python3"
  },
  "language_info": {
   "codemirror_mode": {
    "name": "ipython",
    "version": 3
   },
   "file_extension": ".py",
   "mimetype": "text/x-python",
   "name": "python",
   "nbconvert_exporter": "python",
   "pygments_lexer": "ipython3",
   "version": "3.11.2"
  }
 },
 "nbformat": 4,
 "nbformat_minor": 4
}
