{
 "cells": [
  {
   "cell_type": "code",
   "execution_count": null,
   "metadata": {},
   "outputs": [],
   "source": [
    "from qiskit import * # Obavezno pokrenuti ovaj blok koda!"
   ]
  },
  {
   "cell_type": "markdown",
   "metadata": {},
   "source": [
    "# <center> 8 - Vježba </center>\n",
    "<hr>"
   ]
  },
  {
   "cell_type": "markdown",
   "metadata": {},
   "source": [
    "Rješenja zadataka nalaze se u zasebnom Notebook-u. Ona ne moraju biti nužno ista, ali ukoliko daju iste rezultate smatrajte ih tačnim.\n",
    "\n",
    "Cilj ovih zadataka jeste da vas upoznaju sa različitim tipovima zadataka u kvantom računarstvu. Kao što smo već rekli, kvantno računarstvo je daleko kompleksnije i bavi se dosta složenijim problemima, ali ovi su sasvim dovoljno interesantni za početnike."
   ]
  },
  {
   "cell_type": "markdown",
   "metadata": {},
   "source": [
    "### Zadatak 1"
   ]
  },
  {
   "cell_type": "markdown",
   "metadata": {},
   "source": [
    "Prisjetimo se Controlled NOT (CNOT / CX) kapije, koja zahtijeva dva qubita - jedan kontrolni i jedan ciljni. CNOT kapija će aplicirati NOT kapiju na ciljni qubit ako je stanje kontrolnog qubita $|1\\rangle$.\n",
    "\n",
    "Uz nju smo povezali postojanje 4 \"Bell state-a\". <br>\n",
    "<b>Kreirajte 4 kvantna kola, gdje svako predstavlja jedno Bell stanje.</b>"
   ]
  },
  {
   "cell_type": "code",
   "execution_count": null,
   "metadata": {},
   "outputs": [],
   "source": [
    "phi_1 = QuantumCircuit(2) # 1/sqrt(2) * (|00> + |11>)\n",
    "\n",
    "\n",
    "phi_2 = QuantumCircuit(2) # 1/sqrt(2) * (|00> - |11>)\n",
    "\n",
    "\n",
    "psi_1 = QuantumCircuit(2) # 1/sqrt(2) * (|01> + |10>)\n",
    "\n",
    "\n",
    "psi_2 = QuantumCircuit(2) # 1/sqrt(2) * (|01> - |10>)\n"
   ]
  },
  {
   "cell_type": "markdown",
   "metadata": {},
   "source": [
    "### Zadatak 2\n",
    "\n",
    "Controlled NOT kapija podrazumijeva da imamo samo jedan kontrolni qubit. No, Qiskit nam daje mogućnost implementacije tzv. \"Multi control Toffoli gate\" - kapije koja ima više kontrolnih qubita, te jedan ciljni qubit. \n",
    "Pogledajte primjer implementacije:"
   ]
  },
  {
   "cell_type": "code",
   "execution_count": null,
   "metadata": {},
   "outputs": [],
   "source": [
    "qc = QuantumCircuit(4)\n",
    "qc.mct([0, 1, 2], 3)\n",
    "qc.draw(\"mpl\")"
   ]
  },
  {
   "cell_type": "markdown",
   "metadata": {},
   "source": [
    "U ovom slučaju, kontrolni qubiti su qubit 0, 1 i 2, a ciljni qubit je qubit 3. Kada su sva 3 kontrolna qubita u stanju $|1\\rangle$, NOT kapija će biti aplicirana na qubit 3."
   ]
  },
  {
   "cell_type": "markdown",
   "metadata": {},
   "source": [
    "Vaš zadatak je da napravite kvantno kolo od 3 qubita koji započinju u $|+\\rangle$ stanju, za koje važi:\n",
    "<ul>\n",
    "    <li>Kada nakon mjerenja $q_0$ bude $|0\\rangle$, $q_1$ mjeri $|0\\rangle$, a $q_2$ mjeri $|1\\rangle$</li>\n",
    "    <li>Kada nakon mjerenja $q_0$ bude $|1\\rangle$, $q_1$ mjeri $|1\\rangle$, a $q_2$ mjeri $|0\\rangle$</li>\n",
    "</ul>"
   ]
  },
  {
   "cell_type": "code",
   "execution_count": null,
   "metadata": {},
   "outputs": [],
   "source": [
    "qc_2 = QuantumCircuit(3,3)\n",
    "\n",
    "qc_2.h([0, 1, 2]) # Postavljamo sva 3 qubita u početno stanje, tj. |+> stanje\n",
    "\n",
    "# Vaš kod ide ovdje! :)\n",
    "\n",
    "# Vaš kod završava ovdje!\n",
    "\n",
    "qc_2.measure([0, 1, 2], [0, 1, 2])\n",
    "\n",
    "# Podsjetite se kako simulirati kolo te testirajte za svih 8 ulaza!"
   ]
  },
  {
   "cell_type": "markdown",
   "metadata": {},
   "source": [
    "### Zadatak 3\n",
    "\n",
    "Moguće je napisati kvantna kola koja jednostavno nemaju nikakve velike \"kvantne\" osobine, već da one pokušaju oponašati klasična kola.\n",
    "\n",
    "Pred vama se nalazi mapiranje ulaza na izlaz. Ovde ćemo se upoznati sa tzv. \"little endian\" notacijom, koja je, u suštini, obrnuta od one kojom smo se do sada koristili - $q_0$ je do sada bio na početku, ali sada je na kraju. Tako da, sa lijeva na desno, u stanju \"110\", qubit 0 je u stanju $|0\\rangle$, a qubit 1 i 2 u stanju $|1\\rangle$.\n",
    "Pri implementaciji kola morate obrnuti redoslijed.\n",
    "\n",
    "<b>Vaš zadatak je da kreirate kvantno kolo koje će, pri određenom ulazu, uvijek davati isti izlaz koji odgovara dole navedenom mapiranju. Nije potrebno da stavljate qubite u superpoziciju. Potrudite se da vam kolo bude što je kraće moguće.</b>\n",
    "\n",
    "\n",
    "$$000 \\rightarrow 100$$\n",
    "$$001 \\rightarrow 011$$\n",
    "$$010 \\rightarrow 110$$\n",
    "$$011 \\rightarrow 001$$\n",
    "$$100 \\rightarrow 000$$\n",
    "$$101 \\rightarrow 111$$\n",
    "$$110 \\rightarrow 010$$\n",
    "$$111 \\rightarrow 101$$"
   ]
  },
  {
   "cell_type": "code",
   "execution_count": null,
   "metadata": {},
   "outputs": [],
   "source": [
    "qc_3 = QuantumCircuit(3,3)\n",
    "\n",
    "# Vaš kod ide ovdje! :)\n",
    "\n",
    "# Vaš kod završava ovdje!\n",
    "\n",
    "qc_3.measure([0, 1, 2], [0, 1, 2])"
   ]
  },
  {
   "cell_type": "markdown",
   "metadata": {},
   "source": [
    "### Zadatak 4\n",
    "\n",
    "Kao i u prošlom zadatku, potrebno je izvršiti mapiranje \"klasičnog\" ulaza na klasični izlazl. Sva pravila iz prošlog zadatka stoje i ovde.<br>\n",
    "Mapiranje:\n",
    "\n",
    "$$000 \\rightarrow 100$$\n",
    "$$001 \\rightarrow 001$$\n",
    "$$010 \\rightarrow 110$$\n",
    "$$011 \\rightarrow 011$$\n",
    "$$100 \\rightarrow 111$$\n",
    "$$101 \\rightarrow 010$$\n",
    "$$110 \\rightarrow 101$$\n",
    "$$111 \\rightarrow 000$$"
   ]
  },
  {
   "cell_type": "code",
   "execution_count": null,
   "metadata": {},
   "outputs": [],
   "source": [
    "qc_4 = QuantumCircuit(3,3)\n",
    "\n",
    "# Vaš kod ide ovdje! :)\n",
    "\n",
    "# Vaš kod završava ovdje!\n",
    "\n",
    "qc_4.measure([0, 1, 2], [0, 1, 2])"
   ]
  },
  {
   "cell_type": "markdown",
   "metadata": {},
   "source": [
    "### Zadatak 5 - Dojčov algoritam\n",
    "\n",
    "U ovome zadatku upoznaćemo se sa Dojčovim (engl. \"Deutsch\") algoritmom. Dojčov algoritam je prvi kvantni algoritam koji je pokazao supremaciju kvantnih računara u odnosu na klasične u nekim problemima.\n",
    "\n",
    "Naime, problem koji Dojčov algoritam rješava je jednostavan za objasniti: Neka je $f(x)$ funkcija koja je nama nepoznata. Ovu funkciju nazivamo <b>kvantnim oraklom</b>. Ono što mi možemo uraditi jeste pozvati ovu funkciju i vidjeti koji rezultat ona daje. U našem slučaju, $f(x)$ traži jedan parametar - bit `x`, te će dati jedan bit kao rezultat.\n",
    "\n",
    "Na primjer, $f(0) = 1$, $f(1) = 0$. Vidimo da ova funkcija obrće ulazni bit.<br>\n",
    "\n",
    "Kako funkcija zahtijeva jedan bit, te vraća jedan bit, postoje 4 moguće funkcije:\n",
    "\n",
    "<ol>\n",
    "    <li> $f(0) = 0, f(1) = 0$</li>\n",
    "    <li> $f(0) = 1, f(1) = 1$</li>\n",
    "    <li> $f(0) = 1, f(1) = 0$</li>\n",
    "    <li> $f(0) = 0, f(1) = 1$</li>\n",
    "</ol>\n",
    "\n",
    "Prve dvije nazivamo <b>konstantnim</b>, zato što uvijek daju jedan izlaz (prva uvijek daje za izlaz $0$, a druga $1$).\n",
    "Druge dvije nazivamo <b>balansiranim</b>, zato što daju dva različita izlaza, u zavisnosti od ulaznog bita (jedna daje izlaz $0$, druga daje $1$).\n",
    "\n",
    "Dojčov algoritam odgovara na sljedeće pitanje: <b>Da li je funkcija konstantna ili balansirana?</b>"
   ]
  },
  {
   "cell_type": "markdown",
   "metadata": {},
   "source": [
    "U klasičnom računarstvu ovaj se problem ne može riješiti bez 2 poziva toj funkciji - jedan za ulazni bit `0`, drugi za ulazni bit `1`.\n",
    "\n",
    "<center> <h4> Dojčov algoritam, koji je kvantni algoritam, može ovaj problem riješiti u jednom pozivu funkcije.</h4> </center>"
   ]
  },
  {
   "cell_type": "markdown",
   "metadata": {},
   "source": [
    "CNOT kapija ima jednu zanimljivu pojavu: <b>phase kickback</b>.\n",
    "    \n",
    "Ukoliko imamo 2 qubita u stanju $|+-\\rangle$, i iskoristimo `CNOT(0,1)` kapiju (kontrolni qubit je prvi qubit, ciljni qubit je drugi qubit), stanje kvantnog sistema mijenja se u $|--\\rangle$. Relativna faza `-1` iz stanja $|-\\rangle$ imala je efekta na stanje $|+\\rangle$, tj. dodala mu je tu relativnu fazu.\n",
    "\n",
    "Ovo nam može služiti kao neki vid \"markera\". Ako nam je ciljni qubit u stanju $|-\\rangle$, onda možemo saznati to preko ovakvog CNOT-a."
   ]
  },
  {
   "cell_type": "markdown",
   "metadata": {},
   "source": [
    "Dojčov algoritam će iskoristiti ovu pojavu u svoju korist. <br>\n",
    "Ako pogledamo 4 moguće funckije, vidimo jednu zanimljivu činjenicu: <b>u balansiranim funkcijama, jedan od izlaza će ostati isti, a drugi će biti obrnut.</b> U slučaju sa konstantnim funkcijama, oba ulaza se automatski svode na jednu istu vrijednost.\n",
    "\n",
    "Pošto ovo možda nije dovoljno intuitivno, pogledajte sljedeći blok koda:"
   ]
  },
  {
   "cell_type": "code",
   "execution_count": null,
   "metadata": {},
   "outputs": [],
   "source": [
    "oracle = QuantumCircuit(2)\n",
    "oracle.barrier() # Barijera je samo uspravna linija koja odvaja dijelove kola, kako bi ono bilo preglednije.\n",
    "oracle.cx(0,1)\n",
    "oracle.barrier() # Barijera nema nikakav efekat na kvantno kolo\n",
    "\n",
    "oracle.draw(\"mpl\")"
   ]
  },
  {
   "cell_type": "markdown",
   "metadata": {},
   "source": [
    "U ovom slučaju, $q_0$ bi predstavljao ulazni bit (tj. `x` iz funkcije), a $q_1$ izlazni bit, tj. rezultat obrade.<br>\n",
    "Uz malo razmišljanja vidimo da ovaj orakl ima sljedeće mapiranje: $f(0) = 0; f(1) = 1$ (jer CNOT obrće drugi qubit ako je prvi u stanju $|1\\rangle$).<br>\n",
    "Ova funkcija je <b>balansirana.</b>"
   ]
  },
  {
   "cell_type": "markdown",
   "metadata": {},
   "source": [
    "Pogledajmo i ovaj orakl:"
   ]
  },
  {
   "cell_type": "code",
   "execution_count": null,
   "metadata": {},
   "outputs": [],
   "source": [
    "oracle = QuantumCircuit(2)\n",
    "oracle.barrier()\n",
    "oracle.cx(0,1)\n",
    "oracle.cx(0,1)\n",
    "oracle.barrier()\n",
    "\n",
    "oracle.draw(\"mpl\")"
   ]
  },
  {
   "cell_type": "markdown",
   "metadata": {},
   "source": [
    "Ova funkcija ima sljedeće mapiranje: $f(0) = 0, f(1) = 0$, jer CNOT će dva puta obrnuti drugi qubit u slučaju da je input `1`.<br>\n",
    "Kao takva, ona je <b>konstantna</b>."
   ]
  },
  {
   "cell_type": "markdown",
   "metadata": {},
   "source": [
    "No, do sada smo proračunavali ulaze samo sa osnovnim stanjima, tj. stanjima $|0\\rangle$ i $|1\\rangle$. Šta bi se desilo kada bismo iskoristili stanje $|+-\\rangle$ kao početno stanje kola? \n",
    "\n",
    "<center><h4>Desio bi se phase kickback, ako je funkcija balansirana.</h4> </center>\n",
    "\n",
    "Znači, ako je funkcija balansirana, stanje $|+\\rangle$ prvog qubita bi prešlo u stanje $|-\\rangle$. Kada bismo aplicirali jednu Hadamardovu kapiju, ovo stanje $|-\\rangle$ bi se vratilo u stanje $|1\\rangle$.<br>\n",
    "Za konstantne funkcije, neće se desiti phase kickback i stanje prvog qubita ostaće $|+\\rangle$. Pri apliciranju Hadamardove kapije, ono će preći u stanje $|0\\rangle$."
   ]
  },
  {
   "cell_type": "markdown",
   "metadata": {},
   "source": [
    "Da bi naša funkcija bila konstantna, ona mora imati <b>paran broj CNOT kapija</b> - zamislite palite i gasite svjetlo. Ako pritisnete prekidač jednom, upalićete ga, ako ga pritistene dva puta, ugasićete; tri puta - upalićete (neparan broj); četiri puta - ugasićete (paran broj). \n",
    "\n",
    "Svaka CNOT kapija će izvršiti jedan phase kickback za sebe. Ako se desi neparan broj phase kickbackova, funkcija je balansirana - prvi qubit se neće moći vratiti na svoju ulazno stanje, te će biti modifikovan poslije. S obzirom da se $0$ i $1$ ponašaju različito, izlazi funkcija će biti različiti."
   ]
  },
  {
   "cell_type": "markdown",
   "metadata": {},
   "source": [
    "Dojčov algoritam, dakle, funkcioniše na sljedeći način:\n",
    "<ol>\n",
    "    <li>Postaviti $q_0$ i $q_1$ u stanje $|+-\\rangle$</li>\n",
    "    <li>Aplicirati kvantni orakl (funkcija $f(x)$)</li>\n",
    "    <li>Aplicirati Hadamardovu kapiju na $q_0$, kako bismo dobili ili $|0\\rangle$, ili $|1\\rangle$</li>\n",
    "    <li>Izmjeriti $q_0$</li>\n",
    "</ol>"
   ]
  },
  {
   "cell_type": "markdown",
   "metadata": {},
   "source": [
    "<b>Vaš zadatak je da implementirate Dojčov algoritam za sljedeću funkciju:</b>"
   ]
  },
  {
   "cell_type": "code",
   "execution_count": null,
   "metadata": {},
   "outputs": [],
   "source": [
    "oracle = QuantumCircuit(2)\n",
    "oracle.barrier()\n",
    "oracle.cx(0,1)\n",
    "oracle.x(1)\n",
    "oracle.cx(0,1)\n",
    "oracle.barrier()\n",
    "\n",
    "oracle.draw(\"mpl\")"
   ]
  },
  {
   "cell_type": "code",
   "execution_count": null,
   "metadata": {},
   "outputs": [],
   "source": [
    "qc = QuantumCircuit(2,1)\n",
    "\n",
    "# Vaš kod ide ovdje! :)\n",
    "\n",
    "# Vaš kod završava ovdje!\n",
    "\n",
    "qc.measure(0, 0)"
   ]
  }
 ],
 "metadata": {
  "kernelspec": {
   "display_name": "Python 3 (ipykernel)",
   "language": "python",
   "name": "python3"
  },
  "language_info": {
   "codemirror_mode": {
    "name": "ipython",
    "version": 3
   },
   "file_extension": ".py",
   "mimetype": "text/x-python",
   "name": "python",
   "nbconvert_exporter": "python",
   "pygments_lexer": "ipython3",
   "version": "3.11.2"
  }
 },
 "nbformat": 4,
 "nbformat_minor": 4
}
