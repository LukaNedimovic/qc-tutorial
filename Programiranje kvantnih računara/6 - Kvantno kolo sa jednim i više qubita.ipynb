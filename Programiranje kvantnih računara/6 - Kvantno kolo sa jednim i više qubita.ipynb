{
 "cells": [
  {
   "cell_type": "markdown",
   "metadata": {},
   "source": [
    "# <center> 6.1 - Kvantno kolo (\"quantum circuit\") </center>\n",
    "<hr>"
   ]
  },
  {
   "cell_type": "markdown",
   "metadata": {},
   "source": [
    "Na početku ćemo se upoznati sa <b>kvantnim kolom (engl. \"quantum circuit\").</b> \n",
    "\n",
    "Naime, u svakodnevnom programiranju ćemo se vjerovatno susretati sa nekim tipovima podataka kao što su integer, float, bool, string, ali u ovom slučaju mi radimo sa osnovnim jedinicama - <b>qubitima</b> (kao što bismo, na primjer, u programiranju klasičnih računara radili sa bitovima).\n",
    "\n",
    "Kvantno kolo lakše je jednostavno prikazati nego definisati, ali najjednostavnije rečeno: <b>Kvantno kolo je uređenja sekvenca kvantnih kapija, mjerenja i resetovanja.</b>\n",
    "\n",
    "Na primjeru ispod pogledajmo kako se kreira jedno kvantno kolo koje će imati 1 qubit. <br>\n",
    "\n",
    "<center> <b> No, prije toga, pokrenite sljedeći blok koda, kako biste mogli koristiti Qiskit. </b> </center>"
   ]
  },
  {
   "cell_type": "code",
   "execution_count": null,
   "metadata": {},
   "outputs": [],
   "source": [
    "from qiskit import *"
   ]
  },
  {
   "cell_type": "markdown",
   "metadata": {},
   "source": [
    "## <center> 6.2 - Kvantno kolo sa 1 qubitom </center>\n",
    "<hr>"
   ]
  },
  {
   "cell_type": "markdown",
   "metadata": {},
   "source": [
    "Qiskit je, makar na osnovnom nivou, dosta intuitivan. Kvantno kolo sa 1 qubitom je jako jednostavno kreirati:"
   ]
  },
  {
   "cell_type": "code",
   "execution_count": null,
   "metadata": {},
   "outputs": [],
   "source": [
    "kvantno_kolo = QuantumCircuit(1) # Kreiramo kvantno kolo sa 1 qubitom"
   ]
  },
  {
   "cell_type": "markdown",
   "metadata": {},
   "source": [
    "U bloku koda iznad kreirali smo kvantno kolo koje smo nazvali `kvantno_kolo`, te sadrži jedan qubit. <br>\n",
    "Jednostavno je za primjetiti da broj u zagradi predstavlja broj qubita (u ovom slučaju 1)."
   ]
  },
  {
   "cell_type": "markdown",
   "metadata": {},
   "source": [
    "Pri indeksiranju qubita moramo biti jako pažljivi - prvi qubit nema indeks 1, nego 0. Slijedi da drugi qubit ima indeks 1, treći 2 i tako dalje."
   ]
  },
  {
   "cell_type": "markdown",
   "metadata": {},
   "source": [
    "## <center> 6.3 - Grafičko prikazivanje / crtanje kvatnog kola </center>\n",
    "<hr>"
   ]
  },
  {
   "cell_type": "markdown",
   "metadata": {},
   "source": [
    "Kvantna kola mogu da sadrže ogroman broj kapija, te ih je nekada korisno vizuelno predstaviti kako bismo mogli vidjeti kako ono izgleda i pretpostaviti kako će se ponašati.\n",
    "\n",
    "Srećom, Qiskit nam to omogućava na sljedeći način."
   ]
  },
  {
   "cell_type": "markdown",
   "metadata": {},
   "source": [
    "###  Primjer 1\n",
    "\n",
    "Kreirati kvantno kolo pod imenom `kvantno_kolo`, koje sadrži 1 qubit, te ga grafički prikazati."
   ]
  },
  {
   "cell_type": "markdown",
   "metadata": {},
   "source": [
    "### Rješenje\n",
    "\n",
    "Rješenje se zasniva na tome da koristimo funkciju `draw()`, koju nam omogućuje Qiskit. Ukoliko dodamo još jedan argument unutar te funkcije, tj. iskoristimo `draw(\"mpl\")`, slika će biti nešto ljepša. Pokrenite sljedeći blok koda da se uvjerite."
   ]
  },
  {
   "cell_type": "code",
   "execution_count": null,
   "metadata": {},
   "outputs": [],
   "source": [
    "kvantno_kolo = QuantumCircuit(1) # Kreiramo kvantno kolo pod nazivom \"kvantno_kolo\", koje ima jedan qubit (navedeno u zagradi)\n",
    "display(kvantno_kolo.draw())     \n",
    "display(kvantno_kolo.draw(\"mpl\"))\n",
    "\n",
    "# Koristimo se display() funkcijom kako bi Jupyter Notebook prikazao obe slike. U slučaju da nam treba samo jedna, \n",
    "# dovoljno je napisati: kvantno_kolo.draw(\"mpl\"), ili samo: kvantno_kolo.draw()"
   ]
  },
  {
   "cell_type": "markdown",
   "metadata": {},
   "source": [
    "Iz slike gore vidimo da je naše kvantno kolo prazno - na njemu se ne nalaze nikakve kapije niti išta slično, te samo po sebi ono nema neku funkciju."
   ]
  },
  {
   "cell_type": "markdown",
   "metadata": {},
   "source": [
    "## <center> 6.4 - Korištenje kvantnih kapija </center>\n",
    "<hr>"
   ]
  },
  {
   "cell_type": "markdown",
   "metadata": {},
   "source": [
    "Do sada smo se upoznali sa nekim standardnim kvantnim kapijama koje koristimo na jednom qubitu, a to su: Pauli-X,Y i Z, te Hadamardova kapija.\n",
    "    \n",
    "U Qiskitu, Paulijeve kapije se označavaju sa slovima `x`, `y`, `z`, a Hadamardova kapija sa slovom `h`."
   ]
  },
  {
   "cell_type": "markdown",
   "metadata": {},
   "source": [
    "## Primjer 2\n",
    "\n",
    "Kreirati kvantno kolo pod imenom `qc` (skraćeno `quantum computing`), sa 1 qubitom. Aplicirati kapije sljedećim redoslijedom na qubit: Pauli-Z, Pauli-X, Hadamard, Pauli-Y."
   ]
  },
  {
   "cell_type": "markdown",
   "metadata": {},
   "source": [
    "## Rješenje\n",
    "\n",
    "U sljedećem bloku koda nalazi se rješenje primjera. Redoslijed apliciranja kvantnih kapija je bitan, tako da nije uvijek moguće aplicirati te kapije u nekom drugom redoslijedu od onoga propisanog u tekstu primjera."
   ]
  },
  {
   "cell_type": "code",
   "execution_count": null,
   "metadata": {},
   "outputs": [],
   "source": [
    "qc = QuantumCircuit(1) # Kreiramo kvantno kolo pod nazivom \"qc\", koje ima jedan qubit (navedeno u zagradi)\n",
    "\n",
    "qc.z(0) # Apliciramo Pauli-Z kapiju\n",
    "qc.x(0) # Apliciramo Pauli-X kapiju\n",
    "qc.h(0) # Apliciramo Hadamardovu kapiju\n",
    "qc.y(0) # Apliciramo Pauli-Y kapiju"
   ]
  },
  {
   "cell_type": "markdown",
   "metadata": {},
   "source": [
    "Prikažimo to grafički:"
   ]
  },
  {
   "cell_type": "code",
   "execution_count": null,
   "metadata": {},
   "outputs": [],
   "source": [
    "qc.draw(\"mpl\")"
   ]
  },
  {
   "cell_type": "markdown",
   "metadata": {},
   "source": [
    "Sada vidimo da naše kvantno kolo zapravo i ima nekih kapija u sebi. Vidimo da su kapije na qubitu 0 redom poredane onako kako smo ih mi poredali u kodu."
   ]
  },
  {
   "cell_type": "markdown",
   "metadata": {},
   "source": [
    "### Zadatak 1 \n",
    "\n",
    "Kreirajte kvantno kolo sa 1 qubitom, koje će aplicirati kapije po sljedećem redoslijedu: Pauli-X, Hadamard, Pauli-X, Pauli-Z, te ga grafički prikažite."
   ]
  },
  {
   "cell_type": "code",
   "execution_count": null,
   "metadata": {},
   "outputs": [],
   "source": [
    "# Vaše rješenje ide ovde! :)"
   ]
  },
  {
   "cell_type": "markdown",
   "metadata": {},
   "source": [
    "## <center> 6.5 - Kvantna kola sa više qubita </center>\n",
    "<hr>"
   ]
  },
  {
   "cell_type": "markdown",
   "metadata": {},
   "source": [
    "Kvantno kolo sa jednim qubitom nam može biti korisno, ali se korisnost povećava ako dodamo još koji qubit.\n",
    "\n",
    "Iznad smo naveli da se broj kvantnih bitova lako može mijenjati - dovoljno je promijeniti argument <b>QuantumCircuit-u</b> u željeni broj qubita."
   ]
  },
  {
   "cell_type": "markdown",
   "metadata": {},
   "source": [
    "### Primjer 3\n",
    "\n",
    "Kreirajte kvantno kolo pod imenom `qc`, koje će imati 5 qubita i grafički ga prikažite."
   ]
  },
  {
   "cell_type": "markdown",
   "metadata": {},
   "source": [
    "### Rješenje\n",
    "\n",
    "U bloku ispod možete vidjeti kako izgleda rješenje - nije ništa specifično teže od prošlih."
   ]
  },
  {
   "cell_type": "code",
   "execution_count": null,
   "metadata": {},
   "outputs": [],
   "source": [
    "qc = QuantumCircuit(5) # Kreiramo kvantno kolo pod nazivom \"qc\", koje ima 5 qubita (navedeno u zagradi)\n",
    "qc.draw(\"mpl\")         # Grafički prikazujemo kolo"
   ]
  },
  {
   "cell_type": "markdown",
   "metadata": {},
   "source": [
    "Kao i u <b>Primjeru 1</b> vidimo da naše kvantno kolo nema kapija, tako da ćemo ih u sljedećem primjeru iskoristiti."
   ]
  },
  {
   "cell_type": "markdown",
   "metadata": {},
   "source": [
    "### Primjer 4\n",
    "\n",
    "Kreirati kvantno kolo pod nazivom `qc` koje će imati 3 qubita, te postaviti qubite u sljedeća stanja:\n",
    "<ul>\n",
    "    <li> <b>Prvi qubit: </b> $|1\\rangle$ </li>\n",
    "    <li> <b>Drugi qubit:</b> $|-\\rangle$</li>\n",
    "    <li> <b>Treći qubit:</b> $|+\\rangle$</li>\n",
    "<ul>"
   ]
  },
  {
   "cell_type": "markdown",
   "metadata": {},
   "source": [
    "### Rješenje\n",
    "\n",
    "U ovome zadatku po prvi put se susrećemo sa postavljanjem qubita u neko definisano stanje. <br>\n",
    "Prisjetimo se:\n",
    "$$ \n",
    "  |+\\rangle = \\frac{1}{\\sqrt{2}}|0\\rangle + \\frac{1}{\\sqrt{2}}|1\\rangle = H|0\\rangle \\\\\n",
    "  |-\\rangle = \\frac{1}{\\sqrt{2}}|0\\rangle - \\frac{1}{\\sqrt{2}}|1\\rangle = H|1\\rangle\n",
    "$$\n",
    "\n",
    "Pogledajmo kod:"
   ]
  },
  {
   "cell_type": "code",
   "execution_count": null,
   "metadata": {},
   "outputs": [],
   "source": [
    "qc = QuantumCircuit(3) # Kreiramo kvantno kolo pod nazivom \"qc\", koje ima 3 qubita (navedeno u zagradi)\n",
    "\n",
    "qc.x(0) # Pauli-X će prebaciti prvi qubit iz stanja |0> u stanje |1>, jer X|0> -> X|1>\n",
    "qc.h(1) # Hadamardova kapija če prebaciti drugi qubit iz stanja |0> u stanje |+>\n",
    "\n",
    "qc.x(2) # Da bismo dobili stanje |->, prvo trebamo prebaciti |0> u |1> (što i radimo sa Pauli-X kapijom)\n",
    "qc.h(2) # a zatim prebacujemo stanje |1> u stanje |-> koristeći se Hadamardovom kapijom"
   ]
  },
  {
   "cell_type": "markdown",
   "metadata": {},
   "source": [
    "Prikažimo naše kolo:"
   ]
  },
  {
   "cell_type": "code",
   "execution_count": null,
   "metadata": {},
   "outputs": [],
   "source": [
    "qc.draw(\"mpl\")"
   ]
  },
  {
   "cell_type": "markdown",
   "metadata": {},
   "source": [
    "<center> <h4> U sljedećem dijelu ćemo vidjeti kako ekstraktovati klasičnu, nama korisnu, informaciju </h4> </center>"
   ]
  }
 ],
 "metadata": {
  "kernelspec": {
   "display_name": "Python 3 (ipykernel)",
   "language": "python",
   "name": "python3"
  },
  "language_info": {
   "codemirror_mode": {
    "name": "ipython",
    "version": 3
   },
   "file_extension": ".py",
   "mimetype": "text/x-python",
   "name": "python",
   "nbconvert_exporter": "python",
   "pygments_lexer": "ipython3",
   "version": "3.11.2"
  }
 },
 "nbformat": 4,
 "nbformat_minor": 4
}
