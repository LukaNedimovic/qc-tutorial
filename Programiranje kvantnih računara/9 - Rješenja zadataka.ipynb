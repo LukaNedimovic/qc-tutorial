{
 "cells": [
  {
   "cell_type": "code",
   "execution_count": null,
   "metadata": {},
   "outputs": [],
   "source": [
    "from qiskit import * # Obavezno pokrenuti ovaj blok koda!\n",
    "from qiskit.tools.visualization import plot_histogram # Potrebno je dodati ovu liniju koda kako bismo mogli prikazati histogram"
   ]
  },
  {
   "cell_type": "markdown",
   "metadata": {},
   "source": [
    "# <center> 9.1 - Rješenja zadataka prije vježbe </center>\n",
    "<hr>"
   ]
  },
  {
   "cell_type": "markdown",
   "metadata": {},
   "source": [
    "### 6.4 - Zadatak 1 \n",
    "\n",
    "Rješenje zadatka je slično primjerima. Ono izgleda ovako:"
   ]
  },
  {
   "cell_type": "code",
   "execution_count": null,
   "metadata": {},
   "outputs": [],
   "source": [
    "qc = QuantumCircuit(1)\n",
    "\n",
    "qc.x(0)\n",
    "qc.h(0)\n",
    "qc.x(0)\n",
    "qc.z(0)\n",
    "\n",
    "qc.draw(\"mpl\")"
   ]
  },
  {
   "cell_type": "markdown",
   "metadata": {},
   "source": [
    "### 7.4 - Zadatak 1 (Generator nasumičnih brojeva)\n",
    "\n",
    "Zadatak nije toliko težak za implementirati. Dovoljno je postaviti 5 qubita u superpoziciju putem Hadamardove kapije, te ih sve izmjeriti.\n",
    "\n",
    "Ideja iza ovoga zadatka jeste ta da bi kvantni računari mogli biti odlični nasumični generatori, jer svaki bit koji dolazi u obzir pri generisanju broja u perfektnom balansu između 0 i 1. Samim tim, nema pristrasnosti prema nekom broju.\n",
    "\n",
    "Kako je u zadatku rečeno da izvršimo samo jedno mjerenje, jedini mogući izlaz iz rječnika ćemo uzeti i konvertovati u decimalni brojni sistem. <br>\n",
    "Pogledajte kod ispod."
   ]
  },
  {
   "cell_type": "code",
   "execution_count": null,
   "metadata": {},
   "outputs": [],
   "source": [
    "generator = QuantumCircuit(5,5) # Kreiramo kvantno kolo koje ima 5 kvantnih bitova i 5 standardnih bitova\n",
    "\n",
    "generator.h([0, 1, 2, 3, 4]) # Postavljamo Hadamardovu kapiju na svaki qubit\n",
    "generator.barrier()          # Barijera je postavljeno čisto iz estetskih razloga\n",
    "generator.measure([0, 1, 2, 3, 4], [0, 1, 2, 3, 4]) # Mjerimo qubite"
   ]
  },
  {
   "cell_type": "code",
   "execution_count": null,
   "metadata": {},
   "outputs": [],
   "source": [
    "generator.draw(\"mpl\") # Prikazujemo kvantno kolo"
   ]
  },
  {
   "cell_type": "code",
   "execution_count": null,
   "metadata": {},
   "outputs": [],
   "source": [
    "backend = Aer.get_backend('qasm_simulator')            # Kreiramo simulator  \n",
    "result = execute(generator, backend, shots=1).result() # Rezultate mjerenja čuvamo u varijabli \"result\" i pokrećemo samo jednom\n",
    "counts = result.get_counts()                           "
   ]
  },
  {
   "cell_type": "code",
   "execution_count": null,
   "metadata": {},
   "outputs": [],
   "source": [
    "plot_histogram(counts) # Prikažimo rezultat mjerenja"
   ]
  },
  {
   "cell_type": "code",
   "execution_count": null,
   "metadata": {},
   "outputs": [],
   "source": [
    "binarni_broj = list(counts.keys())[0] # Prvo formiramo riječnik u listu, te uzimamo prvi broj iz nje - ujedno i jedini\n",
    "decimalni_broj = int(binarni_broj, 2) # Pretvaramo binarni string u decimalni broj\n",
    "\n",
    "print(\"Nasumično generisani broj je:\", decimalni_broj)"
   ]
  },
  {
   "cell_type": "markdown",
   "metadata": {},
   "source": [
    "## <center> 9.2 Rješenja zadataka iz vježbe </center>\n",
    "<hr>"
   ]
  },
  {
   "cell_type": "markdown",
   "metadata": {},
   "source": [
    "### Zadatak 1 \n",
    "\n",
    "Zadatak od nas traži da generišemo 4 Bell state-a. Rješenje je relativno intuitivno:"
   ]
  },
  {
   "cell_type": "code",
   "execution_count": null,
   "metadata": {},
   "outputs": [],
   "source": [
    "phi_1 = QuantumCircuit(2) # 1/sqrt(2) * (|00> + |11>)\n",
    "phi_1.h(0)\n",
    "phi_1.cx(0, 1)\n",
    "\n",
    "phi_2 = QuantumCircuit(2) # 1/sqrt(2) * (|00> - |11>)\n",
    "phi_2.h(0)\n",
    "phi_2.cx(0,1)\n",
    "phi_2.z(0)\n",
    "\n",
    "psi_1 = QuantumCircuit(2) # 1/sqrt(2) * (|01> + |10>)\n",
    "psi_1.h(0)\n",
    "psi_1.cx(0, 1)\n",
    "psi_1.x(1)\n",
    "\n",
    "psi_2 = QuantumCircuit(2) # 1/sqrt(2) * (|01> - |10>)\n",
    "psi_2.h(0)\n",
    "psi_2.cx(0, 1)\n",
    "psi_2.z(0)\n",
    "psi_2.x(1)"
   ]
  },
  {
   "cell_type": "code",
   "execution_count": null,
   "metadata": {},
   "outputs": [],
   "source": [
    "# Prikažimo kvantna kola!\n",
    "display(phi_1.draw(\"mpl\"))\n",
    "display(phi_2.draw(\"mpl\"))\n",
    "display(psi_1.draw(\"mpl\"))\n",
    "display(psi_2.draw(\"mpl\"))"
   ]
  },
  {
   "cell_type": "markdown",
   "metadata": {},
   "source": [
    "### Zadatak 2"
   ]
  },
  {
   "cell_type": "markdown",
   "metadata": {},
   "source": [
    "Da ponovimo, u zadatku je potrebno napraviti kvantno kolo od 3 qubita koji započinju u $|+\\rangle$ stanju, za koje važi:\n",
    "<ul>\n",
    "    <li>Kada nakon mjerenja $q_0$ bude $|0\\rangle$, $q_1$ mjeri $|0\\rangle$, a $q_2$ mjeri $|1\\rangle$</li>\n",
    "    <li>Kada nakon mjerenja $q_0$ bude $|1\\rangle$, $q_1$ mjeri $|1\\rangle$, a $q_2$ mjeri $|0\\rangle$</li>\n",
    "</ul>\n",
    "\n",
    "Iz ovoga vidimo da je, u oba slučaja, stanje prvog i drugog qubita isto, te da je stanje prvog i trećeg različito.\n",
    "\n",
    "Ovde ćemo se poslužiti trikom vraćanja na osnovno stanje, koje će nam pomoći da postavimo qubite u takvo stanje da, pri korištenju CNOT-a, oni ili budu isti, ili različiti od stanja prvog qubita."
   ]
  },
  {
   "cell_type": "code",
   "execution_count": null,
   "metadata": {},
   "outputs": [],
   "source": [
    "qc_2 = QuantumCircuit(3, 3)\n",
    "qc_2.h([0, 1, 2]) # Postavljamo qubite u početno stanje\n",
    "\n",
    "qc_2.h([1, 2]) # Pri korištenju još jednog Hadamarda, vratićemo qubite u stanje |0>\n",
    "qc_2.x(2)      # Obrnućemo treći qubit, tj. postavićemo ga u stanje |1>\n",
    "qc_2.cx(0, 1)  # \"Kopiramo\" stanje sa prvog qubita na drugi\n",
    "qc_2.cx(0, 2)  # Obrćemo stanje trećeg qubita u odnosu na prvi, jer treći i prvi qubit moraju imati različito stanje na kraju"
   ]
  },
  {
   "cell_type": "code",
   "execution_count": null,
   "metadata": {},
   "outputs": [],
   "source": [
    "qc_2.draw(\"mpl\") # Prikazujemo kvantno kolo"
   ]
  },
  {
   "cell_type": "markdown",
   "metadata": {},
   "source": [
    "### Zadatak 3\n",
    "\n",
    "`Kada kažemo prvi qubit, mislimo na prvi qubit sa desne strane, zbog \"little endian\" notacije`\n",
    "\n",
    "Treći zadatak od nas zahtijeva da pokušamo rekonstruisati neku klasičnu funkciju, ali kao kvantno kolo. S obzirom da stanja $|0\\rangle$ i $|1\\rangle$ posmatramo kao klasične bitove $0$ i $1$, možemo razmišljati o njima na sličan način.\n",
    "\n",
    "Pri rješavanju ovakvih zadataka jedino što je potrebno uraditi jeste prepoznati šablon ili obrazac po kojem se generiše izlaz. To, nekada, zna biti jako komplikovano, ali u ovome zadatku i nije. \n",
    "\n",
    "Pogledajmo mapiranje: \n",
    "\n",
    "$$000 \\rightarrow 100$$\n",
    "$$001 \\rightarrow 011$$\n",
    "$$010 \\rightarrow 110$$\n",
    "$$011 \\rightarrow 001$$\n",
    "$$100 \\rightarrow 000$$\n",
    "$$101 \\rightarrow 111$$\n",
    "$$110 \\rightarrow 010$$\n",
    "$$111 \\rightarrow 101$$\n",
    "\n",
    "Možemo napraviti sljedeće obzervacije:\n",
    "</ol>\n",
    "    <li> <b>Prvi qubit izlaza</b> ($q_0$) jednak je prvom qubitu ulaza ($q_0$)</li>\n",
    "    <li> <b>Drugi qubit izlaza</b> ($q_1$) jednak je XOR-u između prvog i drugog qubita ulaza ($q_1$ izlaza = $q_0 \\oplus q_1$ ulaza)</li>\n",
    "    <li> <b>Treći qubit izlaza</b> ($q_2$) jednak je negaciji XOR-a između prvog i drugiog qubita ulaza ($q_2$ izlaza = $\\neg(q_0 \\oplus q_2)$)</li>\n",
    "</ol>\n",
    "Ne postoji neko detaljno objašenjenje u vezi prepoznavanja šablona - to je jedino moguće uz dosta vježbe i intuicije.\n",
    "\n",
    "Pogledajte kod ispod."
   ]
  },
  {
   "cell_type": "code",
   "execution_count": null,
   "metadata": {},
   "outputs": [],
   "source": [
    "qc_3 = QuantumCircuit(3,3)\n",
    "\n",
    "qc_3.cx(0,1) # Čuvamo (q_0 ^ q_1) u qubitu q_1\n",
    "qc_3.cx(0,2) # Čuvamo (q_0 ^ q_2) u qubitu q_2\n",
    "qc_3.x(2)    # Negiramo postojeći XOR\n",
    "\n",
    "qc_4.barrier()\n",
    "\n",
    "qc_3.measure([0, 1, 2], [0, 1, 2])\n",
    "qc.draw(\"mpl\")"
   ]
  },
  {
   "cell_type": "markdown",
   "metadata": {},
   "source": [
    "### Zadatak 4\n",
    "\n",
    "Slično kao zadatku 3, potrebno je da pronađemo šablon u sljedećem mapiranju:\n",
    "    \n",
    "    \n",
    "$$000 \\rightarrow 100$$\n",
    "$$001 \\rightarrow 001$$\n",
    "$$010 \\rightarrow 110$$\n",
    "$$011 \\rightarrow 011$$\n",
    "$$100 \\rightarrow 111$$\n",
    "$$101 \\rightarrow 010$$\n",
    "$$110 \\rightarrow 101$$\n",
    "$$111 \\rightarrow 000$$\n",
    "\n",
    "Možemo da zaključimo:\n",
    "<ol>\n",
    "    <li> <b>Drugi qubit izlaza</b> ($q_1$) jednak je XOR-u između trećeg i drugog qubita ulaza ($q_1$ izlaza = $q_2 \\oplus q_1$ ulaza)</li>\n",
    "    <li> <b>Prvi qubit izlaza</b> ($q_0$) jednak je XOR-u između trećeg i prvog qubita ulaza ($q_0$ izlaza = $q_2 \\oplus q_0$ ulaza)</li>\n",
    "    <li> <b>Treći qubit izlaza</b> ($q_2$) jednak je negaciji XOR-a između prvog qubita <b>izlaza</b> i trećeg qubita ulaza ($q_2$ (izlaza) = $q_0 (izlaza) \\oplus q_2 (ulaza)$)</li>\n",
    "</ol>"
   ]
  },
  {
   "cell_type": "code",
   "execution_count": null,
   "metadata": {},
   "outputs": [],
   "source": [
    "qc_4 = QuantumCircuit(3, 3)\n",
    "qc_4.h([0, 1, 2])\n",
    "\n",
    "qc_4.cx(2,1) # Čuvamo (q_2 ^ q_1) u qubitu q_1\n",
    "qc_4.cx(2,0) # Čuvamo (q_2 ^ q_0) u qubitu q_0\n",
    "qc_4.cx(0,2) # Čuvamo (q_0 (izlaza) ^ q_2 (ulaza))\n",
    "qc_4.x(2)    # Negiramo q_2, pri čemu on prelazi u finalno stanje izlaza\n",
    "\n",
    "qc_4.barrier()\n",
    "\n",
    "qc_4.measure([0, 1, 2], [0, 1, 2])\n",
    "qc_4.draw(\"mpl\")"
   ]
  },
  {
   "cell_type": "markdown",
   "metadata": {},
   "source": [
    "### Zadatak 5 \n",
    "\n",
    "Kako je u tekstu zadatka objašnjen redoslijed operacija, dovoljno je da ih samo implementiramo:"
   ]
  },
  {
   "cell_type": "code",
   "execution_count": null,
   "metadata": {},
   "outputs": [],
   "source": [
    "qc_5 = QuantumCircuit(2,1)\n",
    "\n",
    "# Prvi korak\n",
    "qc_5.x(1)      # Postavljamo q_1 u stanje |1>, kako bi on nakon Hadamardove kapije postao |->\n",
    "qc_5.h([0, 1]) # Apliciramo Hadamardove kapije te kreiramo stanje sistema: |+->\n",
    "\n",
    "# Drugi korak - Nadovezujemo na naše kolo orakl iz teksta zadatka\n",
    "qc_5.barrier()\n",
    "qc_5.cx(0,1)\n",
    "qc_5.x(1)\n",
    "qc_5.cx(0,1)\n",
    "qc_5.barrier()\n",
    "\n",
    "# Treći korak - Vraćamo stanje prvog qubita Hadamardovom kapijom\n",
    "qc_5.h(0)\n",
    "\n",
    "# Četvrti korak - Mjerimo prvi qubit da bismo saznali da li je funkcija konstantna ili balansirana\n",
    "qc_5.measure(0, 0)"
   ]
  },
  {
   "cell_type": "code",
   "execution_count": null,
   "metadata": {},
   "outputs": [],
   "source": [
    "qc_5.draw(\"mpl\") # Prikazujemo kvantno kolo"
   ]
  },
  {
   "cell_type": "code",
   "execution_count": null,
   "metadata": {},
   "outputs": [],
   "source": [
    "backend = Aer.get_backend('qasm_simulator')          # Kreiramo simulator  \n",
    "result = execute(qc_5, backend, shots=1024).result() # Rezultate mjerenja čuvamo u varijabli \"result\" i pokrećemo samo jednom\n",
    "counts = result.get_counts()                           "
   ]
  },
  {
   "cell_type": "code",
   "execution_count": null,
   "metadata": {},
   "outputs": [],
   "source": [
    "plot_histogram(counts)"
   ]
  },
  {
   "cell_type": "markdown",
   "metadata": {},
   "source": [
    "<center> <h4> Zaključujemo da je funckija konstantna! </h4> </center>"
   ]
  },
  {
   "cell_type": "markdown",
   "metadata": {},
   "source": [
    "<b>Preporuka:</b> Iako Dojčov algoritam možda ne izgleda toliko zanimljivo, postoje još dva relativno jednostavna kvantna algoritma koji ne zahtijevaju nešto matematike, a to su:\n",
    "<ul>\n",
    "    <li> <b>Bernstein-Vazirani algoritam</b> - koji može da pogodi <b>bilo koji broj iz prvog pokušaja</b>, za razliku od klasičnih računara kojima bi trebalo prosječno makar $N$ pokušaja. Pogledajte tutorijal <a href=\"https://www.youtube.com/watch?v=sqJIpHYl7oo\"> ovdje </a></li>\n",
    "    <li> <b>Groverov algoritam</b> - koji može da pronađe otpimalno rješenje u logaritamskom vremenu, što je dosta brže u odnosu na klasične računare, kojima treba prosječno $\\frac{N}{2}$ pokušaja. Na primjer, možete ga koristiti da pronađete optimalno rješenje za Sudoku: <a href=\"https://qiskit.org/textbook/ch-algorithms/grover.html#5.-Solving-Sudoku-using-Grover's-Algorithm-\"> Kliknte ovdje </a></li>\n",
    "<ul>"
   ]
  }
 ],
 "metadata": {
  "kernelspec": {
   "display_name": "Python 3 (ipykernel)",
   "language": "python",
   "name": "python3"
  },
  "language_info": {
   "codemirror_mode": {
    "name": "ipython",
    "version": 3
   },
   "file_extension": ".py",
   "mimetype": "text/x-python",
   "name": "python",
   "nbconvert_exporter": "python",
   "pygments_lexer": "ipython3",
   "version": "3.11.2"
  }
 },
 "nbformat": 4,
 "nbformat_minor": 4
}
