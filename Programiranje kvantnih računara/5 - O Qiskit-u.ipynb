{
 "cells": [
  {
   "cell_type": "markdown",
   "metadata": {},
   "source": [
    "# <center> 5.1 - Uvod u Qiskit </center>\n",
    "<hr>"
   ]
  },
  {
   "cell_type": "markdown",
   "metadata": {},
   "source": [
    "Kako je jedan od ciljeva ove prezentacije bila njena praktičnost, tj. mogućnost pokretanja koda i interakcije na licu mjesta, bez upućivanja učenika na druge sajtove, vrijeme je da konačno pređemo na praktični dio, a to je <b>pisanje kvantnih programa.</b>\n",
    "\n",
    "Prezentacija jeste i napisana u Jupyter Notebook-u kako bi se mogao pokretati Python kod. Razlog za potrebu pokretanja Python koda jeste taj što ćemo se u ovom tutorijalu baviti <b>Qiskitom - Python framework za pisanje kvantnih programa, razvijanog od strane kompanije IBM.</b>\n",
    "\n",
    "<b>Qiskit je najpopularniji izbor za pisanje kvantnih programa.</b> Pored njega postoje i Q# (programski jezik, razvijan od strane Microsofta), Cirq, t|ket>, Silq i ostali."
   ]
  },
  {
   "cell_type": "markdown",
   "metadata": {},
   "source": [
    "## <center> 5.2 - Instalacija Qiskit-a</center>\n",
    "<hr>"
   ]
  },
  {
   "cell_type": "markdown",
   "metadata": {},
   "source": [
    "Ukoliko već imate instaliran Python na vašem računaru, te uz njega <b>pip</b>, qiskit je jako jednostavno instalirat. <br>\n",
    "Dovoljno je pokrenuti sljedeću komandu u Command Promptu / Windows PowerShellu:\n",
    "`pip install qiskit`"
   ]
  },
  {
   "cell_type": "markdown",
   "metadata": {},
   "source": [
    "## <center> 5.3 - Korištenje Qiskit-a u kodu </center>\n",
    "<hr>"
   ]
  },
  {
   "cell_type": "markdown",
   "metadata": {},
   "source": [
    "Qiskit je jednostavno koristiti u Python programu, s obzirom da se uključuje u kod kao obični modul. <br>\n",
    "Pokrenite sljedeći blok koda <b>(SHIFT + ENTER)</b> i provjerite da li će Python ispisati bilo kakvu poruku - ukoliko ispiše, postoji problem sa instalacijom Qiskit-a."
   ]
  },
  {
   "cell_type": "code",
   "execution_count": null,
   "metadata": {},
   "outputs": [],
   "source": [
    "from qiskit import * # Iz modula qiskit, importuj sve"
   ]
  }
 ],
 "metadata": {
  "kernelspec": {
   "display_name": "Python 3 (ipykernel)",
   "language": "python",
   "name": "python3"
  },
  "language_info": {
   "codemirror_mode": {
    "name": "ipython",
    "version": 3
   },
   "file_extension": ".py",
   "mimetype": "text/x-python",
   "name": "python",
   "nbconvert_exporter": "python",
   "pygments_lexer": "ipython3",
   "version": "3.11.2"
  }
 },
 "nbformat": 4,
 "nbformat_minor": 4
}
