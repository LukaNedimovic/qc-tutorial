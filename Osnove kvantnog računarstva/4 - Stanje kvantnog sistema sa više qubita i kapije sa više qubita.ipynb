{
 "cells": [
  {
   "cell_type": "markdown",
   "metadata": {},
   "source": [
    "# <center> 4.1 - Stanja kvantnog sistema sa više qubita </center>\n",
    "<hr>"
   ]
  },
  {
   "cell_type": "markdown",
   "metadata": {},
   "source": [
    "Do sada smo govorili isključivo o stanju kvantnog sistema sa jednim qubitom. No, kako to nije previše praktično, trebali bismo dodati još qubita u obzir.\n",
    "\n",
    "Ukoliko se prisjetimo mogućih ishoda pri mjerenju jednog qubita, sjetićemo se da je broj ishoda samo 2 - rezultat je ili 0, ili 1. Ovo pravilo i dalje važi, jer svaki qubit može da završi u jednom od ta dva stanja. <br>\n",
    "Ukoliko, na primjer, imamo 2 qubita, onda imamo četiri moguće kombinacije na kraju mjerenja:\n",
    "\n",
    "$$ \n",
    "  q_1 = 0, q_2 = 0 \\\\\n",
    "  q_1 = 0, q_2 = 1 \\\\\n",
    "  q_1 = 1, q_2 = 0 \\\\\n",
    "  q_1 = 1, q_2 = 1 \\\\\n",
    "$$ \n",
    "\n",
    "Vidimo da, ukoliko imamo <b>n</b> qubita, broj mogućih rezultata je: $2^n$."
   ]
  },
  {
   "cell_type": "markdown",
   "metadata": {},
   "source": [
    "## <center> 4.2 - Zapisivanje stanja kvantnog sistema sa više qubita </center>\n",
    "<hr>"
   ]
  },
  {
   "cell_type": "markdown",
   "metadata": {},
   "source": [
    "Neka su $q_1$ i $q_2$ dva qubita, svaki u svom respektivnom stanju. Tada njihovo zajedničko stanje zapisujemo kao $|q_1\\rangle |q_2\\rangle$, ili skraćeno: $|q_1q_2\\rangle$.\n",
    "\n",
    "Izraz $|q_1q_2\\rangle$ nam zapravo pokazuje amplitude (iz kojih kasnije dobijamo šanse) za svako moguće stanje na kraju mjerenja. <br>\n",
    "Na primjer, ako je $|q_1\\rangle = |1\\rangle$ i $|q_2\\rangle = |0\\rangle$, tada važi da je: $|10\\rangle = \\begin{bmatrix} 0 \\\\ 1 \\end{bmatrix} \\otimes \\begin{bmatrix} 1 \\\\ 0 \\end{bmatrix} = \\begin{bmatrix} 0 * 1 \\\\ 0 * 0 \\\\ 1 * 1 \\\\ 1 * 0 \\end{bmatrix} = \\begin{bmatrix} 0 \\\\ 0 \\\\ 1 \\\\ 0 \\end{bmatrix}.$\n",
    "\n",
    "Ukoliko brojimo u binarnom brojnom sistemu, treće stanje po redu jeste stanje \"10\" i vidimo da će ono uvijek biti izmjereno sa 100% šanse."
   ]
  },
  {
   "cell_type": "markdown",
   "metadata": {},
   "source": [
    "### Primjer 1\n",
    "\n",
    "Neka je prvi qubit u stanju $|\\psi_1\\rangle = |+\\rangle$, a drugi qubit u stanju $|\\psi_2\\rangle = |-\\rangle$. Izračunati stanje cjelokupnog kvantnog sistema."
   ]
  },
  {
   "cell_type": "markdown",
   "metadata": {},
   "source": [
    "### Rješenje\n",
    "Kao što je već navedeno, trebamo da izračunamo $|\\psi_1\\psi_2\\rangle$. Vrijednosti stanja $|+\\rangle$ i $|-\\rangle$ se mogu pronaći u poglavlju 3, sekciji 4.\n",
    "\n",
    "Ukupno stanje glasi: $|\\psi_1\\psi_2\\rangle = \\begin{bmatrix} \\frac{1}{2} \\\\ -\\frac{1}{2} \\\\ \\frac{1}{2} \\\\ -\\frac{1}{2} \\end{bmatrix}$.\n",
    "\n",
    "Ovo stanje kvantnog sistema je jedan primjer stanja u kojem svaki mogući rezultat ima jednaku šansu da bude izmjeren. Kada se kaže da kvantni računar može da uzme sva rješenja u obzir i od njih odabere najbolje, ovo je jedan od koraka - postavljanje svih qubita u stanje tako da su svi ishodi jednaki."
   ]
  },
  {
   "cell_type": "markdown",
   "metadata": {},
   "source": [
    "## <center> 4.3 - Controlled NOT Gate </center>\n",
    "<hr> "
   ]
  },
  {
   "cell_type": "markdown",
   "metadata": {},
   "source": [
    "Controlled NOT gate, CX ili CNOT gate je kapija koja zahtijeva 2 qubita - jedan je kontrolni (control) qubit, a drugi je ciljni (target) qubit.\n",
    "\n",
    "Najjednostavnije rečeno, Controlled NOT kapija će aplicirati X kapiju na ciljni qubit, ako je kontrolni qubit u stanju $|1\\rangle$.\n",
    "\n",
    "Matematički zapisano, ona je $4x4$ matrica:\n",
    "$$\n",
    "CX = \\begin{bmatrix} 1 & 0 & 0 & 0 \\\\ 0 & 1 & 0 & 0 \\\\ 0 & 0 & 0 & 1 \\\\ 0 & 0 & 1 & 0 \\end{bmatrix}\n",
    "$$\n",
    "\n",
    "### Primjer 2\n",
    "Neka je prvi qubit u stanju $|\\psi_1\\rangle = |1\\rangle$, a drugi u stanju $|\\psi_2\\rangle = |0\\rangle$. Koje je stanje čitavog sistema nakon apliciranja CNOT kapije sa prvim qubitom kao kontrolnim, a drugi kao ciljnim qubitom ?"
   ]
  },
  {
   "cell_type": "markdown",
   "metadata": {},
   "source": [
    "### Rješenje\n",
    "\n",
    "Kada apliciramo kvantne kapije koje zahtijevaju dva ili više qubita, onda formiramo zajedničko stanje ta 2 qubita i množimo ga odredjenom kapijom, tako da je rezultat ovoga primjera: $CX|\\psi_1\\psi_2\\rangle = \\begin{bmatrix} 0 \\\\ 0 \\\\ 0 \\\\ 1 \\end{bmatrix}$. Razlog za ovo stanje sistema je taj što će se stanje drugog qubita promjeniti u stanje $X|0\\rangle = |1\\rangle$, tako da će na kraju oba qubita biti 100% u stanju 1."
   ]
  },
  {
   "cell_type": "markdown",
   "metadata": {},
   "source": [
    "<b>Controlled NOT gate može prerasti u Muti-Controlled NOT Gate (tj. NOT gate koji ima više od 1 kontrolnog qubita).</b> U tome slučaju, ponaša se kao AND klasična kapija, koja će obrnuti ciljni qubit u slučaju da su svi kontrolni qubiti u |1> stanju. Ovo se može interesantno iskoristiti na ciljnom qubitu u početnom stanju $|0\\rangle$, jer će preći u stanje $|1\\rangle$ ako je AND operacija svih kontrolnih qubita jednaka 1. (Jako korisno pri rekreiranju klasičnih funkcija)"
   ]
  },
  {
   "cell_type": "markdown",
   "metadata": {},
   "source": [
    "## <center> 4.4 - Kvantno sprezanje </center>\n",
    "<hr>"
   ]
  },
  {
   "cell_type": "markdown",
   "metadata": {},
   "source": [
    "Da li se sva stanja nekog kvantnog sistema mogu zapisati kao produkt dva ili više stanja? Odgovor je ne.\n",
    "\n",
    "Razlog ovome jeste postojanje takozvanih <b>spregnutih qubita</b> (engl. \"entagled qubits\"). Spregnutim qubitima ne možemo nezavisno posmatrati stanje, jer pri njihovoj obzervaciji narušava se stanje drugog qubita sa kojim je prvi spregnut. Zanimljiva karakteristika kvantnog sprezanja jeste ta što qubiti mogu biti nevjerovatno udaljeni, a fenomen i dalje postoji.\n",
    "\n",
    "Kako bismo došli do jednog kvantno spregnutog stanja korisitićemo se sa 2 do sada naučene stvari: Hadamardovom kapijom i CNOT kapijom.\n",
    "\n",
    "Cilj nam je da formiramo sljedeće stanje:\n",
    "\n",
    "$$ \n",
    "|\\phi^+\\rangle = \\frac{1}{\\sqrt{2}}|00\\rangle + \\frac{1}{\\sqrt{2}}|11\\rangle \n",
    "$$ \n",
    "\n",
    "Kao što vidimo, ovo stanje ima 2 moguća ishoda - ili su oba qubita, na kraju, u stanju 0, ili su oba u stanju 1.\n",
    "\n",
    "Kako bismo došli do ovoga stanja, potrebno je prvo da stavimo prvi qubit u $|+\\rangle$ stanje, te da apliciramo CX kapiju sa qubita 1 na qubit 2.\n",
    "\n",
    "Ovo stanje je jedan od 4 \"Bell paira\" / \"Bell state-a\". Pored njega još poznajemo:\n",
    "$$ \n",
    "  |\\phi^-\\rangle = \\frac{1}{\\sqrt{2}}|00\\rangle - \\frac{1}{\\sqrt{2}}|11\\rangle \\\\\n",
    "  |\\psi^+\\rangle = \\frac{1}{\\sqrt{2}}|01\\rangle + \\frac{1}{\\sqrt{2}}|10\\rangle \\\\\n",
    "  |\\psi^-\\rangle = \\frac{1}{\\sqrt{2}}|01\\rangle - \\frac{1}{\\sqrt{2}}|10\\rangle \\\\\n",
    "$$\n",
    "\n",
    "Pri mjerenju jednog od dva qubita, stanje čitavog sistema će da se spusti na neko od dva moguća ishoda, jer se kvantno sprezanje uništava."
   ]
  },
  {
   "cell_type": "markdown",
   "metadata": {},
   "source": [
    "<center> <b> Sada kada smo se upoznali sa osnovnim konceptima korištenim u kvantnom računarstvu, vrijeme je da pređemo na praktični dio - programiranje kvantnih računara u Qiskitu </b> </center>"
   ]
  }
 ],
 "metadata": {
  "kernelspec": {
   "display_name": "Python 3 (ipykernel)",
   "language": "python",
   "name": "python3"
  },
  "language_info": {
   "codemirror_mode": {
    "name": "ipython",
    "version": 3
   },
   "file_extension": ".py",
   "mimetype": "text/x-python",
   "name": "python",
   "nbconvert_exporter": "python",
   "pygments_lexer": "ipython3",
   "version": "3.11.2"
  }
 },
 "nbformat": 4,
 "nbformat_minor": 4
}
