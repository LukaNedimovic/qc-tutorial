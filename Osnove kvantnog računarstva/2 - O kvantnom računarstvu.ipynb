{
 "cells": [
  {
   "cell_type": "markdown",
   "metadata": {},
   "source": [
    "# <center> 2.1 - Šta je kvantno računarstvo? <center>\n",
    "<hr>"
   ]
  },
  {
   "cell_type": "markdown",
   "metadata": {},
   "source": [
    "<b>Kvantno računarstvo</b> je računarstvo koje iskorištava kolektivne osobine kvantnog stanja, kao što su <b>superpozicija</b>, <b>interferencija</b>, te <b>kvantno sprezanje</b>, da bi izvršilo računanje.\n",
    "    \n",
    "Ono što je bitno reći za kvantno računarstvo je da ono počiva na <b>kvantnoj mehanici</b>, koja se dosta razlikuje od svakodnevne mehanike koja je nama poznata. Na primjer, kvantna mehanika tvrdi da kvantne čestice mogu se ponašati i kao čestice, i kao talasi - imaju dualističku prirodu. To im omogućava da, za razliku od klasičnih bitova koji mogu imati vrijednost $0$ i $1$, imaju daleko veći broj vrijednosti. Teoretski, moguće je skladištiti beskonačnu količinu informacije u samo jednom qubitu, ali do toga još nismo praktično došli.\n",
    "    "
   ]
  },
  {
   "cell_type": "markdown",
   "metadata": {},
   "source": [
    "## <center> 2.2 - Zašto kvantno računarstvo? <center>\n",
    "<hr>"
   ]
  },
  {
   "cell_type": "markdown",
   "metadata": {},
   "source": [
    "<b>Kvantno računarstvo je jedna od novijih tehnologija</b>. Mnoge svjetske kompanije poput <b>Google-a</b> i <b>IBM-a</b> ulažu u njega zato što smatraju da ima ogroman potencijal.\n",
    "\n",
    "Iako su neki ljudi skeptični oko toga i savjetuju vas da se odaljite od kvantnog računarstva jer ono neće moći nikada biti razvijenije od klasičnog računarstva, postoje već neki dokazi da bi ovo zapravo moglo biti netačno.\n",
    "\n",
    "<b>Kvantno računarstvo nam omogućava da rješavamo određene (matematičke) probleme daleko brže.</b> Nešto što bi trebalo hiljade godina klasičnom računaru, kvantni računar bi mogao da odradi u sekundi. <br>Na primjer, zamislite da trebate da pogodite neki ogroman broj - koliko bi vam trebalo vremena? Koliko bi trebalo vremena običnom, svakodnevnom računaru? Odgovori na ova dva pitanja su poprilično veliki i rastu sa veličinom broja. Ako vam je rečeno da je broj između $0$ i $10^{18}$, trebalo bi vam vjerovatno dosta vremena. <b>No, kvantnom računaru, nezavisno od veličine broja, potreban je samo 1 pokušaj da odradi tako nešto.</b>\n",
    "\n",
    "Ono što ste možda do sada čuli jeste da kvantni računari mogu da, odjednom, uzmu svako moguće rješenje u obzir i uzmu najbolje je otprilike i tačno. Pomoću <b>kvantne superpozicije</b>, moguće je uzeti svako moguće rješenje u obzir i preko različitih algoritama selektovati ono najbolje. Jedan zanimljiviv primjer toga je <b>Groverov algoritam</b>, o kojem će biti nešto više riječi kasnije.\n",
    "\n",
    "Kvantno računarstvo nam <b>neće</b> pomoći da pravimo bolje mobilne aplikacije ili renderujemo bolju grafiku, ono tome nije namijenjeno. No, može nam pomoći u <b>kriptografiji</b>, te se smatra da će kvantni računari zapravo uništiti šifre i sajber bezbijednost - jednostavno, moraćemo naći druge načine da se zaštitimo.\n",
    "\n",
    "<b>Mašinsko učenje</b> je dosta poboljšano i ubrzano sa kvantnim računarstvom, kao i <b>pronalaženje puteva (engl. \"quantum pathfinding\")</b>, <b>finansijsko modeliranje</b>, <b>razvijanje lijekova</b> i slično."
   ]
  },
  {
   "cell_type": "markdown",
   "metadata": {},
   "source": [
    "## <center> 2.3 - Šta je Bit? </center>\n",
    "<hr>"
   ]
  },
  {
   "cell_type": "markdown",
   "metadata": {},
   "source": [
    "U svakodnevnom životu koristimo se klasičnim računarima i koristimo ih, štaviše, za neke dosta kompleksne stvari. No, kada bismo pojednostavili njihov način rada, vidjeli bismo da se sve svodi na dva broja: $0$ i $1$. Klasični računari svoje proračune vrše preko tzv. <b>bitova</b> (engl. \"<b>BI</b>nary digi<b>T</b>\"), čija vrijednost može biti samo $0$ ili $1$ - nikako obe u isto vrijeme ili nešto između. <br>\n",
    "\n",
    "Povezujući veći broj bitova u jedan niz bitova, mogu se predstaviti brojevi, riječi i slično. Na primjer, broj $25$ u binarnom brojnom sistemu / predstavljen pomoću bitova iznosi: $11001$.\n",
    "\n",
    "Bitovi se mogu manipulisati preko tzv. <b>logičkih kapija</b>. "
   ]
  },
  {
   "cell_type": "markdown",
   "metadata": {},
   "source": [
    "## <center> 2.4 - Šta je Qubit? </center>\n",
    "<hr>"
   ]
  },
  {
   "cell_type": "markdown",
   "metadata": {},
   "source": [
    "Kvantni računari su fundamentalno različiti od klasičnih računara. <br>Ne koriste se (klasičnim) bitovima, već <b>kvantnim bitovima</b> (engl. \"quantum bit\" = \"<b>QU</b>antum <b>BIT</b>\"), tj. <b>qubit-ima</b>. <br>\n",
    "\n",
    "Qubit može imati vrijednost $0$ i $1$, kao i bit, ali pored toga može biti u <b> \"superpoziciji\" </b> ta dva stanja. Više o superpoziciji u sljedećem dijelu. <br>\n",
    "Manipulacija qubita vrši se <b> kvantnim kapijama </b> (dalje u tekstu engl. \"quantum gate\")."
   ]
  },
  {
   "cell_type": "markdown",
   "metadata": {},
   "source": [
    "## <center> 2.5 - Superpozicija </center>\n",
    "<hr>"
   ]
  },
  {
   "cell_type": "markdown",
   "metadata": {},
   "source": [
    "Da bismo objasnili šta zapravo predstavlja superpozicija, potrebno je da kažemo nešto više o tome kako se zapravo ponaša qubit u jednom kvantnom programu.\n",
    "\n",
    "Qubit se postavlja u tzv. <b>(kvantno) stanje</b> gdje može imati vrijednost $0$, $1$ ili nešto između. Takvo stanje se manipuliše quantum gate-ovima i, kao takvo, nama ne znači mnogo. <br>\n",
    "\n",
    "Ono što je nama značajno jeste klasična informacija koju dobijamo iz tog qubit-a. Kako bismo dobili klasičnu informaciju iz određenog qubita, potrebno je da ga <b>izmjerimo</b> (engl. \"measure\"). Tada će se qubit <b>srušiti</b> (engl. \"collapse\") na jedno od dva klasična stanja - $0$ ili $1$.\n",
    "\n",
    "Do sada ste čuli da kvantni računar može da uzme u obzir svaki mogući ishod neke situacije odjednom, te da izvrši neki proračun. Ono što je bitno navesti jeste da će kvantni računar tako i postupati, ali neće, na kraju, dati rezultat za svaku od njih pojedinačno - on može dati samo <b>jedan</b> rezultat, u zavisnosti od toga šta problem traži i taj rezultat je klasične prirode, tj. od njega imamo koristi.\n",
    "Qubit može istražiti svako moguće stanje, ali na kraju postoji samo fiksiran broj ishoda svakog računanja.\n",
    "\n",
    "<b>Superpozicija jeste osobina qubita da bude u oba stanja ($0$ i $1$) u isto vrijeme.</b> No, koliko god ovo zvučalo čudno, zapravo je jako jednostavno za objasniti - na primjer, moguće je postaviti qubit u stanje takvo da 50% puta njegovim mjerenjem dobijemo ishod $0$ i 50% puta njegovim mjerenjem dobijemo ishod $1$. Isto tako, moguće je postaviti u nekom drugom odnosu, npr. 20% - 80% i slično. <br>\n",
    "\n",
    "Rekli smo da qubit može biti i u stanju $0$ i $1$, a ta stanja su zapravo 100% $0$ i 0% $1$, odnosno 0% $0$ i 100% $1$.\n",
    "Kako qubit može biti u stanjima $0$ i $1$, ta stanja su zapravo 100% $0$ i 100% $1$, respektivno.\n",
    "\n",
    "Ova osobina qubita je jako važna i bilo bi dobro da je pokušate za sada razumjeti koliko-toliko, no, i ako ne uspijete, ispod se nalazi još objašnjenja koja vam to sve mogu približiti."
   ]
  },
  {
   "cell_type": "markdown",
   "metadata": {},
   "source": [
    "## <center> 2.6 - Predstavljanje stanja qubita </center>\n",
    "<hr>"
   ]
  },
  {
   "cell_type": "markdown",
   "metadata": {},
   "source": [
    "Pri zapisivanju stanja qubita koristićemo se <b>bra-ket notacijom</b> (još poznata kao \"Dirakova notacija\").\n",
    "Stanja $0$ i $1$ su jednostavna za zapisati: \n",
    "<ol>\n",
    "    <li> Stanje $0$: $|0\\rangle$ (čitaj \"ket nula\"), čija je vrijednost: $\\begin{bmatrix}1 \\\\ 0\\end{bmatrix}$ </li>\n",
    "    <li> Stanje $1$: $|1\\rangle$ (čitaj \"ket jedan\"), čija je vrijednost: $\\begin{bmatrix}0 \\\\ 1\\end{bmatrix}$</li>\n",
    "</ol>\n",
    "\n",
    "Ukoliko želite, za sada ova stanja možete zamišljati kao loptu koja je okrenuta prema gore ($|0\\rangle$) i prema dole ($1\\rangle$). Svaka druga pozicija lopte je, u suštini, superpozicija.\n",
    "\n",
    "<b> Svako kvantno stanje možemo predstaviti kao (linearnu) kombinaciju ova dva. Opšta \"formula\" stanja jednog qubita (kojeg ovde označavamo grčkim slovom \"psi\") je:\n",
    "    \n",
    "$$ |\\psi\\rangle = \\alpha|0\\rangle + \\beta|1\\rangle = \\begin{bmatrix}\\alpha \\\\ \\beta\\end{bmatrix}$$\n",
    "   \n",
    "gdje su $\\alpha$ i $\\beta$ dva kompleksna broja. </b>\n",
    "    \n",
    "    \n",
    "Uz to, moramo ispoštovati pravilo: $|\\alpha|^2 + |\\beta|^2 = 1$\n",
    "Broj $\\alpha$ i $\\beta$ se nazivaju amplitudama, a $|\\alpha|^2$ i $|\\beta|^2$ predstavljaju šanse za respektivni ishod. \n",
    "\n",
    "Podrazumijeva se da je stanje $|0\\rangle$ jednaku klasičnoj 0 i stanje $|1\\rangle$ klasičnoj 1."
   ]
  },
  {
   "cell_type": "markdown",
   "metadata": {},
   "source": [
    "### Primjer 1"
   ]
  },
  {
   "cell_type": "markdown",
   "metadata": {},
   "source": [
    "Neka je qubit $q_0$ u stanju koje će 20% mjerenja dati stanje $|0\\rangle$, te 80% stanje $|1\\rangle$. Njegovo stanje bra-ket notacijom možemo predstaviti tzv. ket-vektorom: $$\\begin{bmatrix} \\frac{1}{\\sqrt{5}} \\\\ \\frac{2}{\\sqrt{5}}\\end{bmatrix}$$\n",
    "\n",
    "Primjetite kako nismo zapisali stanje kao: $\\begin{bmatrix}0.2 \\\\ 0.8\\end{bmatrix}$. <br>\n",
    "Razlog za to je jednostavan, ukoliko pogledate objašenjenje iznad - \"$|\\alpha|^2$ i $|\\beta|^2$ predstavljaju šanse za respektivni ishod\". \n",
    "\n",
    "Naime, $\\begin{bmatrix}0.2 \\\\ 0.8\\end{bmatrix} = 0.2|0\\rangle + 0.8|1\\rangle$, te vidimo da je $\\alpha = 0.2$ i $\\beta = 0.8$. Šansa da $q_0$ završi u stanju $|0\\rangle$ jeste: $|0.2|^2 = (0.2)^2 = 0.04$, što nije 20% (ili 0.2).\n",
    "\n",
    "Ali, ako upotrijebimo ovo pravilo na prvom ket-vektoru, vidimo: $\\left|\\frac{1}{\\sqrt{5}}\\right|^2 = \\left(\\frac{1}{\\sqrt{5}}\\right)^2 = \\frac{1}{5}$, što je 20%. Isto tako važi i za: $\\left|\\frac{2}{\\sqrt{5}}\\right|^2 = \\left(\\frac{2}{\\sqrt{5}}\\right)^2 = \\frac{4}{5}$, što je 80%. "
   ]
  },
  {
   "cell_type": "markdown",
   "metadata": {},
   "source": [
    "### Primjer 2"
   ]
  },
  {
   "cell_type": "markdown",
   "metadata": {},
   "source": [
    "Neka je qubit $q_1$ u stanju: $\\begin{bmatrix}\\frac{1}{2}(1+i) \\\\ \\frac{1}{2}(1-i)\\end{bmatrix}$. Kolika je šansa da pri mjerenju qubita dobijemo stanje $|1\\rangle$ ? "
   ]
  },
  {
   "cell_type": "markdown",
   "metadata": {},
   "source": [
    "### Rješenje \n",
    "\n",
    "U ovome slučaju, jedino je bitno da posmatramo amplitudu za stanje $|1\\rangle$, tj. $\\frac{1}{2}(1-i)$. Kako se radi o kompleksnom broju, zapišimo ga u proširenom obliku: $\\frac{1}{2}(1-i) = \\frac{1}{2} - \\frac{1}{2}i$. Da bismo dobili $\\left|\\left(\\frac{1}{2} - \\frac{1}{2}i\\right)\\right|^2$, izračunajmo $\\left|\\frac{1}{2} - \\frac{1}{2}i\\right| = \\sqrt{\\left(\\frac{1}{2}\\right)^2 + \\left(-\\frac{1}{2}\\right)^2} = \\sqrt{\\frac{1}{4} + \\frac{1}{4}} = \\sqrt{\\frac{2}{4}} = \\sqrt{\\frac{1}{2}}$.<br>\n",
    "Kvadriranjem dobijamo: $\\left(\\sqrt{\\frac{1}{2}}\\right)^2 = \\frac{1}{2}$.\n",
    "\n",
    "<b>Samim tim, odgovor je $0.5$, tj. šansa je 50%.</b> "
   ]
  },
  {
   "cell_type": "markdown",
   "metadata": {},
   "source": [
    "## <center> 2.7 - Relativna faza </center>\n",
    "<hr>"
   ]
  },
  {
   "cell_type": "markdown",
   "metadata": {},
   "source": [
    "Pogledajmo sljedeća dva stanja:\n",
    "$$ |\\psi_1\\rangle = \\frac{1}{\\sqrt{2}}|0\\rangle + \\frac{1}{\\sqrt{2}}|1\\rangle \\\\ \n",
    "   |\\psi_2\\rangle = \\frac{1}{\\sqrt{2}}|0\\rangle - \\frac{1}{\\sqrt{2}}|1\\rangle\n",
    "$$\n",
    "\n",
    "Iako vidimo da je $\\beta = -\\frac{1}{\\sqrt{2}}$ u stanju $|\\psi_2\\rangle$, to što je $\\beta$ negativna ne predstavlja nikakvu razliku pri mjerenju qubita. Oba qubita će 50% puta dati stanje $|0\\rangle$ i 50% puta dati stanje $|1\\rangle$.\n",
    "\n",
    "Predznak \"-\" predstavlja <b>relativnu fazu</b>. Ona ne utiče trenutno na mjerenje qubita, ali može biti izuzetno korisna (npr. \"phase kickback\" u nekim algoritmima) pri evoluiranju stanja qubita. Pošto dovode do određenih promjena pri evoluciji stanja, mogu se detektovati pri mjerenju.\n",
    "\n",
    "Obilježimo relativnu fazu sa $\\gamma$. Tada važi da je $|\\gamma|^2 = 1$, te za neko stanje: $|\\psi\\rangle = \\alpha|0\\rangle + \\gamma\\beta|1\\rangle$"
   ]
  },
  {
   "cell_type": "markdown",
   "metadata": {},
   "source": [
    "## <center> 2.8 - Globalna faza </center>\n",
    "<hr>"
   ]
  },
  {
   "cell_type": "markdown",
   "metadata": {},
   "source": [
    "Pogledajmo sljedeća dva stanja:\n",
    "$$ |\\psi_1\\rangle = \\frac{1}{\\sqrt{2}}(|0\\rangle + |1\\rangle) \\\\ \n",
    "   -|\\psi_2\\rangle = -\\frac{1}{\\sqrt{2}}(|0\\rangle + |1\\rangle)\n",
    "$$\n",
    "\n",
    "Kao i prošli put, možemo primjetiti da se ova dva stanja uopšte ne razlikuju pri mjerenju. No, takođe možemo primjetiti i faktor \"-1\" ispred drugog stanja. Taj faktor nazivamo <b>globalnom fazom</b>.\n",
    "\n",
    "Razlika između globalne i relativne faze je u tome što globalnu fazu ne možemo detektovati, za razliku od relativne. Globalna ni na kakav način ne utiče na rezultate mjerenja."
   ]
  }
 ],
 "metadata": {
  "kernelspec": {
   "display_name": "Python 3 (ipykernel)",
   "language": "python",
   "name": "python3"
  },
  "language_info": {
   "codemirror_mode": {
    "name": "ipython",
    "version": 3
   },
   "file_extension": ".py",
   "mimetype": "text/x-python",
   "name": "python",
   "nbconvert_exporter": "python",
   "pygments_lexer": "ipython3",
   "version": "3.11.2"
  }
 },
 "nbformat": 4,
 "nbformat_minor": 4
}
