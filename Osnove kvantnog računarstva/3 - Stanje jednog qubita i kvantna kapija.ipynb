{
 "cells": [
  {
   "cell_type": "markdown",
   "metadata": {},
   "source": [
    "# <center> 3.1 - Šta je kvantna kapija (quantum gate)? </center>\n",
    "<hr>"
   ]
  },
  {
   "cell_type": "markdown",
   "metadata": {},
   "source": [
    "Kvantne kapije su, u suštini, operacije koje vršimo nad qubitima. One nam omogućavaju da manipulišemo stanje qubita. <br>\n",
    "Matematički ih predstavljamo kao <b>unitarne matrice</b>.\n",
    "\n",
    "Unitarne matrice su matrice koje zadovoljavaju sljedeća dva uslova:\n",
    "<b><ol>\n",
    "    <li> \n",
    "        Unitarna transformacija mapira vektore dužine u vektore dužine 1\n",
    "    </li> \n",
    "    <li>\n",
    "        Par ortogonalnih vektora mapira se u drugi par ortogonalnih vektora.\n",
    "    </li>\n",
    "</ol></b>\n",
    "\n",
    "Jednostavnije rečeno, unitarne matrice nam pomažu da mapiramo bilo koje stanje qubita u neko drugo validno stanje, te da pravilno zadržimo amplitude. Jedan od uslova za quantum gate-ove jeste da moraju biti <b>reverzibilni</b>, tj. kada se apliciraju 2 puta, vratiće qubit na početno stanje."
   ]
  },
  {
   "cell_type": "markdown",
   "metadata": {},
   "source": [
    "## <center> 3.2 - Apliciranje kapija na jedan qubit </center>\n",
    "<hr>"
   ]
  },
  {
   "cell_type": "markdown",
   "metadata": {},
   "source": [
    "Kako bismo izbjegli razne formalne definicije, jednostavno ćemo reći da su sve kapije koje se apliciraju na jedan qubit <b>zapravo matrice dimenzija $2x2$.</b>\n",
    "\n",
    "Neka je $M = \\begin{bmatrix} a & b \\\\ c & d \\end{bmatrix}$ i $|\\psi\\rangle = \\alpha|0\\rangle + \\beta|1\\rangle$. Korištenjem kapije $M$ na stanje $|\\psi\\rangle$, dobijamo: $M|\\psi\\rangle = \\alpha M|0\\rangle + \\beta M|1\\rangle$.\n",
    "\n",
    "Kako qubit može, teorijski, biti u beskonačnom broju stanja, ne možemo definisati efekte matrice na svako od tih stanja, već ih definišemo na osnovu dva osnovna stanja - $|0\\rangle$ i $|1\\rangle$.\n",
    "\n",
    "Primjer se nalazi u sljedećoj sekciji."
   ]
  },
  {
   "cell_type": "markdown",
   "metadata": {},
   "source": [
    "## <center> 3.3 - Paulijeve kapije </center>\n",
    "<hr>"
   ]
  },
  {
   "cell_type": "markdown",
   "metadata": {},
   "source": [
    "Set Paulijevih kapija je set od 3 standardne, jako česte kapije u kvantnom računarstvu. Nazivaju se <b>Pauli-X, Pauli-Y i Pauli-Z</b>, te svaka od njih vrši rotaciju qubita oko respektivne ose (X, Y i Z).\n",
    "\n",
    "No, ovo je relativno teško za predstaviti u 2D sistemu, tako da je za sada dovoljno da mislimo samo o njihovim \"matematičkim\" efektima na stanje qubita."
   ]
  },
  {
   "cell_type": "markdown",
   "metadata": {},
   "source": [
    "### <center> 3.3.1 - Pauli-X </center>"
   ]
  },
  {
   "cell_type": "markdown",
   "metadata": {},
   "source": [
    "Pauli-X kapija je ekvivalent klasičnoj NOT kapiji, te vrši sljedeće mapiranje:\n",
    "    $$ \n",
    "        |0\\rangle \\rightarrow |1\\rangle \\\\\n",
    "        |1\\rangle \\rightarrow |0\\rangle\n",
    "    $$\n",
    "    \n",
    "Ona, u suštini, obrće stanje osnovnih vektora. Matematički je možemo zapisati:\n",
    "$$ \\sigma_x = \\begin{bmatrix} 0 & 1 \\\\ 1 & 0 \\end{bmatrix} $$\n",
    "\n",
    "### Primjer 1 \n",
    "\n",
    "Neka je $|\\psi\\rangle = \\frac{1}{\\sqrt{2}}(|0\\rangle - |1\\rangle)$. Iskoristiti Pauli-X kapiju na ovom stanju."
   ]
  },
  {
   "cell_type": "markdown",
   "metadata": {},
   "source": [
    "#### Rješenje \n",
    "\n",
    "Zapisujemo: $|\\psi\\rangle \\rightarrow X|\\psi\\rangle$. $X|\\psi\\rangle = \\frac{1}{\\sqrt{2}} X|0\\rangle - \\frac{1}{\\sqrt{2}} X|1\\rangle = \\frac{1}{\\sqrt{2}}|1\\rangle - \\frac{1}{\\sqrt{2}}|0\\rangle$. \n",
    "\n",
    "Ovo stanje zapisujemo: $|\\psi\\rangle = - \\frac{1}{\\sqrt{2}}|0\\rangle + \\frac{1}{\\sqrt{2}}|1\\rangle$, što je jednako $- \\frac{1}{\\sqrt{2}}|0\\rangle + \\frac{1}{\\sqrt{2}}|1\\rangle$. Kako uvijek težimo ka tome da predznak na amplitudi od $|0\\rangle$ bude pozitivan, ovo stanje može biti jednako: $-\\left(\\frac{1}{\\sqrt{2}}|0\\rangle - \\frac{1}{\\sqrt{2}}|1\\rangle \\right)$.\n",
    "\n",
    "Uviđamo da je u novom stanju globalna faza jednaka $-1$, kao i relativna faza.\n",
    "\n",
    "Konačno rješenje: $X|\\psi\\rangle = -\\left(\\frac{1}{\\sqrt{2}}|0\\rangle - \\frac{1}{\\sqrt{2}}|1\\rangle \\right)$."
   ]
  },
  {
   "cell_type": "markdown",
   "metadata": {},
   "source": [
    "### <center> 3.3.2 - Pauli-Y </center>"
   ]
  },
  {
   "cell_type": "markdown",
   "metadata": {},
   "source": [
    "Pauli-Y kapija nema svog klasičnog ekvivalenta. Vrši sljedeće mapiranje:\n",
    "    $$\n",
    "        |0\\rangle \\rightarrow i|1\\rangle \\\\\n",
    "        |1\\rangle \\rightarrow -i|0\\rangle\n",
    "    $$    \n",
    "    \n",
    "Matematički je možemo zapisati: \n",
    "$$ \\sigma_y = \\begin{bmatrix} 0 & -i \\\\ i & 0 \\end{bmatrix} $$"
   ]
  },
  {
   "cell_type": "markdown",
   "metadata": {},
   "source": [
    "### <center> 3.3.3 - Pauli-Z </center>"
   ]
  },
  {
   "cell_type": "markdown",
   "metadata": {},
   "source": [
    "Pauli-Z kapija nema svog klasičnog ekvivalenta. Vrši sljedeće mapiranje:\n",
    "    $$\n",
    "        |0\\rangle \\rightarrow |0\\rangle \\\\\n",
    "        |1\\rangle \\rightarrow -|1\\rangle\n",
    "    $$    \n",
    "    \n",
    "Matematički je možemo zapisati: \n",
    "$$ \\sigma_z = \\begin{bmatrix} 1 & 0 \\\\ 0 & -1 \\end{bmatrix} $$"
   ]
  },
  {
   "cell_type": "markdown",
   "metadata": {},
   "source": [
    "## <center> 3.4 - Hadamardova kapija </center>\n",
    "<hr>"
   ]
  },
  {
   "cell_type": "markdown",
   "metadata": {},
   "source": [
    "Hadamardova kapija je jedna od najčešćih kapija korištena u kvantim algoritmima.\n",
    "Njena osnovna funkcija je stvaranja 50 - 50 stanja od osnovnih stanja:\n",
    "  $$\n",
    "       |0\\rangle \\rightarrow \\frac{1}{\\sqrt{2}}(|0\\rangle + |1\\rangle) \\\\\n",
    "       |1\\rangle \\rightarrow \\frac{1}{\\sqrt{2}}(|0\\rangle - |1\\rangle)\n",
    "  $$\n",
    "  \n",
    "Prvo stanje se još obilježava kao $|+\\rangle$, a drugo kao $|-\\rangle$. <br>\n",
    "Matematički zapis Hadamardove kapije / matrice za jedan qubit je:\n",
    "$$ H = \\frac{1}{\\sqrt{2}}\\begin{bmatrix} 1 & 1 \\\\ 1 & -1 \\end{bmatrix} $$\n",
    "\n",
    "Hadamardova kapija ima veliki značaj u kvantnom sprezanju (engl. \"quantum entanglement\"), te npr. postavljanju qubita u svako moguće stanje u nekim algoritmima kao što su Groverov algoritam za pretraživanje."
   ]
  },
  {
   "cell_type": "markdown",
   "metadata": {},
   "source": [
    "<center><b> Što se tiče osnovnih kapija, za početnike su ove sasvim dovoljne. U kvantnom računarstvu postoji daleko veći broj kapija koje možete istražiti ukoliko ste zainteresovani, no ove su sasvim dovoljne za završavanje tutorijala.</b></center>"
   ]
  }
 ],
 "metadata": {
  "kernelspec": {
   "display_name": "Python 3 (ipykernel)",
   "language": "python",
   "name": "python3"
  },
  "language_info": {
   "codemirror_mode": {
    "name": "ipython",
    "version": 3
   },
   "file_extension": ".py",
   "mimetype": "text/x-python",
   "name": "python",
   "nbconvert_exporter": "python",
   "pygments_lexer": "ipython3",
   "version": "3.11.2"
  }
 },
 "nbformat": 4,
 "nbformat_minor": 4
}
