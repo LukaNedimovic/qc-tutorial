{
 "cells": [
  {
   "cell_type": "markdown",
   "metadata": {},
   "source": [
    "# <center> QC Tutorial - Početak </center>\n",
    "<hr>"
   ]
  },
  {
   "cell_type": "markdown",
   "metadata": {},
   "source": [
    "## <center> O QC Tutorial-u </center>\n",
    "<hr>"
   ]
  },
  {
   "cell_type": "markdown",
   "metadata": {},
   "source": [
    "<b>QC Tutorial predstavlja jednostavan, interaktivni uvod u kvantno računarstvo na srpskom jeziku.</b> <br> Kako mu je jedan od osnovnih ciljeva <b>pristupačnost</b>, optimizovan je tako da ga mogu koristiti učenici svih uzrasta - od osnovnoškolaca do studenata. <br>\n",
    "\n",
    "QC Tutorial jeste \"serija\" <b>Jupyter Notebook-ova</b> (\"Džupiter radnih svesaka\") koji omogućavaju učeniku da, uz praktične primjere, jednostavno razumije osnovne koncepte i algoritme kvantnog računarstva. <br/>\n",
    "Tutorijal sadrži riješene zadatke, od kojih su neki kreirani od strane autora prve svjetske takmičarske platforme za kvantno računarstvo - <b>haq.ai</b>, u čijem razvoju učestvuje i autor. <br>\n",
    "\n",
    "<b>Sva objašnjenja su pisana od strane učenika, koji je htio da, koliko toliko, popularizuje kvantno računarstvo u Republici Srpskoj i Bosni i Hercegovini. Neka objašnjenja možda neće zvučati dovoljno formalno, no to je i poenta do određene granice - pojednostaviti i približiti određene koncepte, kako bi učenici bili motivisani da dalje istražuju sami. Ideja je bila ne koristiti previše matematičke notacije koja može, pogotovo početnicima, biti izuzetno naporna i demotivirajuća. </b>"
   ]
  },
  {
   "cell_type": "markdown",
   "metadata": {},
   "source": [
    "## <center> Prednosti QC Tutoriala u odnosu na standardne metode prezentacije (PowerPoint prezentacije, tekstualni dokumenti i sl.) </center>\n",
    "<hr>"
   ]
  },
  {
   "cell_type": "markdown",
   "metadata": {},
   "source": [
    "Bitna razlika između ovakvog načina prezentovanja i gore navedenih načina jeste njegova <b>unikatnost i interaktivnost</b>. <br>\n",
    "Iako je sasvim u redu prezentovati i na gore navedene načine, QC Tutorial omogućuje interaktivnost i dosta slobode pojedincu pri učenju - mogućnost kreiranja novih blokova koda, pokretanja istog, te kontiunirano usavršavanje razvojnog okruženja Jupyter Notebook-a za rad sa bibliotekama za kvantno računarstvo.\n",
    "\n",
    "Učenik može da pokreće kod, mijenja ga po svojoj želji, te eksperimentiše na razne načine. <br/>\n",
    "Moguće je implementirati <b>\"gradere\"</b> (programe koji pregledavaju rješenja), što je dosta teže (ili možda nemoguće) implementirati u standardnim prezentacijama. <br/>\n",
    "\n",
    "Na kraju krajeva, jako je korisno prezentovati na ovaj način iz jednostavnog razloga što će se, vjerovatno, u budućnosti učenici koristiti Jupyter Notebook-om za razvijanje kvantnih programa. <br>\n",
    "\n",
    "<center> <b> Ova interaktivnost i sloboda su ključni aspekti ovog tutorijala, koje ga čine inovativnim i jednim korakom ispred standardnih načina prezentovanja. </b> </center>"
   ]
  },
  {
   "cell_type": "markdown",
   "metadata": {},
   "source": [
    "## <center> Sadržaj </center>\n",
    "<hr>"
   ]
  },
  {
   "cell_type": "markdown",
   "metadata": {},
   "source": [
    "<b> QC Tutorial pretpostavlja da već osnovno predznanje iz linearne algebre i klasičnog računarstva. Ukoliko smatrate da je potrebno, na sljedećem linku nalazi se komprehenzivno ponavljanje potrebnih tema. QC Tutorial ne zahtijeva poznavanje svega navedenog u tim tutorijalima.<br> <a href=\"https://github.com/The-Eigensolvers/TEQS/tree/main/Pre-requisites\"> Kliknite ovde za tutorijale </a> </b>"
   ]
  },
  {
   "cell_type": "markdown",
   "metadata": {},
   "source": [
    "QC Tutorial podijeljen je na 2 veće oblasti: \n",
    "<ol>\n",
    "    <li><b>Osnove kvantnog računarstva</b> (poglavlja 2 - 4)</li>\n",
    "    <li><b>Programiranje kvantnih računara</b> (poglavlja 5 - 9)</li>\n",
    "</ol>\n",
    "    \n",
    "<b>Osnove kvantnog računarstva</b> obuhvataju:\n",
    "<ol start=\"2\">\n",
    "    <li><b>O kvantom računarstvu</b></li>\n",
    "    <li><b>Stanje jednog qubita i kvantna kapija</b></li>\n",
    "    <li><b>Stanje kvantnog sistema sa više qubita i kvantne kapije sa više qubita</b></li>\n",
    "</ol>\n",
    "\n",
    "<b>Programiranje kvantnih računara</b> obuhvata:\n",
    "<ol start=\"5\">\n",
    "    <li><b>O Qiskit-u</b></li>\n",
    "    <li><b>Kvantno kolo sa jednim i više qubita</b></li>\n",
    "    <li><b>Mjerenje i simulacija kvantnog kola</b></li>\n",
    "    <li><b>Vježba</b></li>\n",
    "    <li><b>Rješenja zadataka</b></li>\n",
    "</ol>\n",
    "\n",
    "<center> <h4> Učenik može da pogleda odmah sada, ali i po završetku prezentacije Jupyter Notebook pod imenom \"Korisni resursi\", koje će mu pomoći da proširi svoje znanje i postane dio društva kvantnog računarstva širom svijeta.</h4> </center>"
   ]
  },
  {
   "cell_type": "markdown",
   "metadata": {},
   "source": [
    "## <center> Kratka poruka učeniku </center>\n",
    "<hr>"
   ]
  },
  {
   "cell_type": "markdown",
   "metadata": {},
   "source": [
    "Nadam se da će te ovaj tutorijal makar malo zainteresovati i uvesti u svijet kvantnog računarstva. <br>\n",
    "\n",
    "<center>\n",
    "    <h3> Srećno! :)</h3>\n",
    "</center>"
   ]
  },
  {
   "cell_type": "markdown",
   "metadata": {},
   "source": [
    "<p style=\"text-align: right;\"> <b><i> Luka Nedimović, autor </b></i> </p>"
   ]
  }
 ],
 "metadata": {
  "kernelspec": {
   "display_name": "Python 3 (ipykernel)",
   "language": "python",
   "name": "python3"
  },
  "language_info": {
   "codemirror_mode": {
    "name": "ipython",
    "version": 3
   },
   "file_extension": ".py",
   "mimetype": "text/x-python",
   "name": "python",
   "nbconvert_exporter": "python",
   "pygments_lexer": "ipython3",
   "version": "3.11.2"
  }
 },
 "nbformat": 4,
 "nbformat_minor": 4
}
